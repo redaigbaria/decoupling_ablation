{
 "cells": [
  {
   "cell_type": "code",
   "execution_count": 2,
   "id": "e65e195e-9dbe-4c26-b47d-a5f51bb048d6",
   "metadata": {
    "tags": []
   },
   "outputs": [],
   "source": [
    "import torch\n",
    "from torch import nn\n",
    "import torchvision.models\n",
    "import pickle\n",
    "\n",
    "import torchvision\n",
    "import torch\n",
    "from torchvision.transforms import transforms"
   ]
  },
  {
   "cell_type": "code",
   "execution_count": 2,
   "id": "51e9ea78-f4bb-4ae9-b9b0-03966c927584",
   "metadata": {},
   "outputs": [],
   "source": [
    "from torchvision.datasets.utils import download_url\n",
    "import os\n",
    "import tarfile\n",
    "import hashlib\n",
    "\n",
    "# https://github.com/fastai/imagenette\n",
    "# dataset_url = 'https://s3.amazonaws.com/fast-ai-imageclas/imagenette2.tgz'\n",
    "# dataset_filename = dataset_url.split('/')[-1]\n",
    "# dataset_foldername = dataset_filename.split('.')[0]\n",
    "# data_path = './data'\n",
    "# dataset_filepath = os.path.join(data_path,dataset_filename)\n",
    "# dataset_folderpath = os.path.join(data_path,dataset_foldername)\n",
    "\n",
    "# os.makedirs(data_path, exist_ok=True)\n",
    "\n",
    "# download = False\n",
    "# if not os.path.exists(dataset_filepath):\n",
    "#     download = True\n",
    "# # else:\n",
    "# #     md5_hash = hashlib.md5()\n",
    "\n",
    "\n",
    "# #     file = open(dataset_filepath, \"rb\")\n",
    "\n",
    "# #     content = file.read()\n",
    "\n",
    "# #     md5_hash.update(content)\n",
    "\n",
    "\n",
    "# #     digest = md5_hash.hexdigest()\n",
    "# #     if digest != 'fe2fc210e6bb7c5664d602c3cd71e612':\n",
    "# #         download = True\n",
    "# if download:\n",
    "#     download_url(dataset_url, data_path)\n",
    "\n",
    "#     with tarfile.open(dataset_filepath, 'r:gz') as tar:\n",
    "#         tar.extractall(path=data_path)"
   ]
  },
  {
   "cell_type": "code",
   "execution_count": 17,
   "id": "f767aa5b-50e7-407e-9302-258cc012e0f4",
   "metadata": {},
   "outputs": [
    {
     "data": {
      "text/plain": [
       "[2, 12, 19, 13, 19, 1, 10, 12, 16, 11]"
      ]
     },
     "execution_count": 17,
     "metadata": {},
     "output_type": "execute_result"
    }
   ],
   "source": [
    "sampler = torch.utils.data.WeightedRandomSampler(torch.ones(20), 10, replacement=True)\n",
    "list(sampler)"
   ]
  },
  {
   "cell_type": "code",
   "execution_count": 23,
   "id": "24ec3b27-f4f7-452c-9591-ed0b0eaa0075",
   "metadata": {},
   "outputs": [
    {
     "data": {
      "text/plain": [
       "[6, 0, 13, 10, 18, 8, 16, 4, 2, 6]"
      ]
     },
     "execution_count": 23,
     "metadata": {},
     "output_type": "execute_result"
    }
   ],
   "source": [
    "list(sampler)"
   ]
  },
  {
   "cell_type": "code",
   "execution_count": 3,
   "id": "4ba4ff40-e31e-455e-8eb5-9436bb896a04",
   "metadata": {},
   "outputs": [],
   "source": [
    "class TwoCropsTransform:\n",
    "    \"\"\"Take two random crops of one image as the query and key.\"\"\"\n",
    "\n",
    "    def __init__(self, base_transform):\n",
    "        self.base_transform = base_transform\n",
    "\n",
    "    def __call__(self, x):\n",
    "        q = self.base_transform(x)\n",
    "        k = self.base_transform(x)\n",
    "        return [q, k]\n",
    "\n",
    "    def __repr__(self):\n",
    "        format_string = self.__class__.__name__ + '(\\n\\t'\n",
    "        format_string += self.base_transform.__repr__().replace('\\n', '\\n\\t')\n",
    "        format_string += '\\n)'\n",
    "        return format_string"
   ]
  },
  {
   "cell_type": "code",
   "execution_count": 4,
   "id": "610a29b1-3fbf-4426-a6bd-7473d7533d20",
   "metadata": {
    "tags": []
   },
   "outputs": [],
   "source": [
    "from PIL import ImageFilter\n",
    "import random\n",
    "\n",
    "class GaussianBlur(object):\n",
    "    \"\"\"Gaussian blur augmentation in SimCLR https://arxiv.org/abs/2002.05709\"\"\"\n",
    "\n",
    "    def __init__(self, sigma=[.1, 2.]):\n",
    "        self.sigma = sigma\n",
    "\n",
    "    def __call__(self, x):\n",
    "        sigma = random.uniform(self.sigma[0], self.sigma[1])\n",
    "        x = x.filter(ImageFilter.GaussianBlur(radius=sigma))\n",
    "        return x"
   ]
  },
  {
   "cell_type": "code",
   "execution_count": 5,
   "id": "f84ba021-0047-4d87-b354-f0afd53217c5",
   "metadata": {},
   "outputs": [],
   "source": [
    "# size  = 224\n",
    "# ks = (int(0.1 * size) // 2) * 2 + 1\n",
    "# __imagenet_stats = {'mean': [0.485, 0.456, 0.406],\n",
    "#                     'std': [0.229, 0.224, 0.225]}\n",
    "\n",
    "#TODO: chose transforms\n",
    "\n",
    "# train_transform = TwoCropsTransform(transforms.Compose([transforms.RandomResizedCrop(scale=(0.2, 1), size=size),\n",
    "#                                         transforms.RandomApply([transforms.ColorJitter(0.8, 0.8, 0.8, 0.2)], p=0.8),                  \n",
    "#                                         transforms.RandomGrayscale(p=0.2),\n",
    "#                                         transforms.RandomApply([GaussianBlur()], p=0.1),\n",
    "#                                         transforms.RandomHorizontalFlip(),\n",
    "#                                         transforms.ToTensor(),\n",
    "#                                         transforms.Normalize(**__imagenet_stats)]))\n",
    "\n",
    "# dataset_train = torchvision.datasets.ImageFolder(os.path.join(dataset_folderpath,'train'), train_transform)\n",
    "#valid_ds = ImageFolder('./data/imagenette-160/val', valid_tfms)\n",
    "\n",
    "# batch_size = 64\n",
    "# train_dataloader = torch.utils.data.DataLoader(\n",
    "#         dataset_train,\n",
    "#         batch_size=batch_size,\n",
    "#         num_workers=8,\n",
    "#         drop_last=True,\n",
    "#         shuffle=True,\n",
    "# )"
   ]
  },
  {
   "cell_type": "code",
   "execution_count": 6,
   "id": "bb7dbe77-80d0-4475-aecf-0dbc3834d499",
   "metadata": {},
   "outputs": [],
   "source": [
    "from torch.nn import functional as F\n",
    "def contrastive_loss(z1, z2, tau=0.2):\n",
    "    N = z1.shape[0]\n",
    "    logits = torch.mm(z1, z2.t())  # [N, N] pairs\n",
    "    labels = torch.arange(N).cuda()  # positives are in diagonal\n",
    "    loss = F.cross_entropy(logits / tau, labels)\n",
    "    return 2 * tau * loss"
   ]
  },
  {
   "cell_type": "code",
   "execution_count": 7,
   "id": "1c2f12b8-8dd5-44c9-874f-70e5afc9af73",
   "metadata": {},
   "outputs": [],
   "source": [
    "# class MoCoV2(nn.Module):\n",
    "    \n",
    "#     def __init__(self, Q_size=6400, C=128):\n",
    "#         super(MoCoV2, self).__init__()\n",
    "#         self.C = C\n",
    "#         self.Q_size = Q_size\n",
    "#         self.queue_head = 0\n",
    "#         self.queue = torch.randn(C, Q_size, requires_grad=False).cuda()\n",
    "#         self.queue = nn.functional.normalize(self.queue, dim=0)\n",
    "#         self.f_k = torchvision.models.resnet50(num_classes=C)\n",
    "#         self.f_q = torchvision.models.resnet50(num_classes=C)\n",
    "#         dim_mlp = self.f_q.fc.weight.shape[1]\n",
    "#         self.f_q.fc = nn.Sequential(nn.Linear(dim_mlp, dim_mlp), nn.ReLU(), self.f_q.fc)\n",
    "#         self.f_k.fc = nn.Sequential(nn.Linear(dim_mlp, dim_mlp), nn.ReLU(), self.f_k.fc)\n",
    "        \n",
    "#         for param_q, param_k in zip(self.f_q.parameters(), self.f_k.parameters()):\n",
    "#             param_k.data.copy_(param_q.data)\n",
    "#             param_k.requires_grad = False     \n",
    "\n",
    "#     def forward(self, x1, x2):\n",
    "#         N = x1.shape[0]\n",
    "#         query = self.f_q(x1)\n",
    "#         query = nn.functional.normalize(query, dim=1)\n",
    "#         with torch.no_grad():\n",
    "#             k = self.f_k(x2)\n",
    "#             k = nn.functional.normalize(k, dim=1)\n",
    "        \n",
    "#         l_pos = torch.bmm(query.view(N, 1, self.C), k.view(N, self.C, 1)).view(N,1)\n",
    "#         l_neg = torch.mm(query.view(N, self.C), self.queue.view(self.C, self.Q_size).clone().detach())\n",
    "        \n",
    "#         logits = torch.cat([l_pos, l_neg], dim=1)\n",
    "        \n",
    "#         #enqueu dequeue\n",
    "#         self.queue[:, self.queue_head: self.queue_head+ N] = k.clone().t()\n",
    "#         self.queue_head = (self.queue_head + N) % self.Q_size\n",
    "#         return logits        \n",
    "        \n",
    "        \n",
    "\n"
   ]
  },
  {
   "cell_type": "code",
   "execution_count": 8,
   "id": "7f0cc1e5-e6cc-4d36-936d-cfd094ac51d9",
   "metadata": {},
   "outputs": [],
   "source": [
    "# model = MoCoV2()\n",
    "\n",
    "\n",
    "# model.to('cuda')\n",
    "# print()"
   ]
  },
  {
   "cell_type": "code",
   "execution_count": 9,
   "id": "3c06dd47-8def-4735-b2bd-5006eec5034c",
   "metadata": {},
   "outputs": [],
   "source": [
    "# '''Load state dictionary from stopping point'''\n",
    "# import os\n",
    "# try:\n",
    "#     files = [f for f in os.listdir('.') if os.path.isfile(f)]\n",
    "#     epochs_lst = [int(f.split('_')[1]) for f in files if \"snapshot\" in f]\n",
    "#     last_epoch = max(epochs_lst)\n",
    "#     model.load_state_dict(torch.load(f\"snapshot_{last_epoch}\"))\n",
    "# except:\n",
    "#     last_epoch = 0\n",
    "    \n",
    "# print(last_epoch)"
   ]
  },
  {
   "cell_type": "code",
   "execution_count": 10,
   "id": "2a61be56-fd1a-40a1-821e-ecae94cd2a5c",
   "metadata": {},
   "outputs": [],
   "source": [
    "# from tqdm.notebook  import tqdm\n",
    "# import pickle\n",
    "# epochs = 1000\n",
    "# print_step = 10\n",
    "# tau = 0.2\n",
    "# m = 0.999\n",
    "# from matplotlib import pyplot as plt\n",
    "# errors = []\n",
    "\n",
    "# return # we have already trained the Feature extractor!\n",
    "\n",
    "# #lr = 5e-2 * 0.9 ** last_epoch\n",
    "\n",
    "# optimizer = torch.optim.SGD(model.parameters(), lr=5e-2, momentum=0.9)\n",
    "\n",
    "# lr_sched = torch.optim.lr_scheduler.CosineAnnealingLR(optimizer, epochs, eta_min=0)\n",
    "# for i in range(last_epoch):\n",
    "#     lr_sched.step()\n",
    "# optimizer.zero_grad()\n",
    "\n",
    "\n",
    "# if not os.path.exists(dataset_filepath):\n",
    "#     loss_log = []\n",
    "#     epoch_loss = []\n",
    "# else:\n",
    "#     loss_log, epoch_loss = pickle.load(open(\"loss_logs.pkl\", \"rb\"))\n",
    "\n",
    "# def train():\n",
    "#     for epoch in range(last_epoch + 1, epochs + 1):\n",
    "#         total_loss = 0\n",
    "#         for batch_idx, ((x1,x2),_) in enumerate(tqdm(train_dataloader)):\n",
    "#             x1, x2 = x1.cuda(), x2.cuda()\n",
    "#             logits = model(x1, x2)\n",
    "#             labels = torch.zeros(x1.shape[0], dtype=torch.long).cuda()\n",
    "#             loss = nn.functional.cross_entropy(logits / tau, labels)\n",
    "#             if loss.isnan().item():\n",
    "#                 print(\"nan loss\")\n",
    "#                 global errors\n",
    "#                 errors = [x1, x2]\n",
    "#                 print(logits)\n",
    "#                 return\n",
    "#             optimizer.zero_grad()\n",
    "#             loss.backward()\n",
    "#             optimizer.step()\n",
    "#             with torch.no_grad():\n",
    "#                 for param_q, param_k in zip(model.f_q.parameters(), model.f_k.parameters()):\n",
    "#                     param_k.data = m * param_k.data + (1-m) * param_q.data\n",
    "#             total_loss += loss.item()\n",
    "#             loss_log.append(loss.item())\n",
    "#             if batch_idx % print_step == 0:\n",
    "#                 tqdm.write('Loss {:.4f}'.format(loss.item()))\n",
    "#         lr_sched.step()\n",
    "#         print(f\"update lr to: {optimizer.param_groups[0]['lr']}\")\n",
    "#         ep_loss = total_loss/len(train_dataloader)\n",
    "#         print('Epoch {}: mean loss={:.4f}'.format(epoch, ep_loss))\n",
    "#         epoch_loss.append(ep_loss)\n",
    "#         if epoch % 10 == 0:\n",
    "#             torch.save(model.state_dict(), f\"snapshot_{epoch}\")\n",
    "#             with open(\"loss_logs.pkl\", \"wb\") as f:\n",
    "#                 pickle.dump([loss_log, epoch_loss], f)\n",
    "        \n",
    "             \n",
    "# # train()\n"
   ]
  },
  {
   "cell_type": "code",
   "execution_count": 11,
   "id": "e5294f62-9c29-415e-b7e0-7da7d47c3af5",
   "metadata": {},
   "outputs": [],
   "source": [
    "# '''Loading the Contrastive Loss logs'''\n",
    "# with open(\"loss_logs.pkl\",'rb') as f:\n",
    "#     loss = pickle.load(f)\n",
    "#     f.close()\n",
    "    \n",
    "# from matplotlib import pyplot as plt\n",
    "# plt.plot(loss[1])\n",
    "# # plt.xscale('log')\n",
    "# plt.xlabel('Epoch')\n",
    "# plt.ylabel('Contrastive Loss')\n",
    "# plt.figure()\n",
    "\n",
    "# snaps_hist = []\n",
    "# for i in range(100):\n",
    "#     snaps_hist.append(loss[1][i*10])\n",
    "# print(f\"best performing snapshot :{torch.argmin(torch.tensor(snaps_hist))*10} with loss {min(snaps_hist)}\")\n"
   ]
  },
  {
   "cell_type": "code",
   "execution_count": 12,
   "id": "7127213c-8cb7-4484-ae54-765a78f861af",
   "metadata": {},
   "outputs": [],
   "source": [
    "# print('number of parameters: ', sum(param.numel() for param in model.parameters()))\n",
    "# print('Num of trainable parameters : ', sum(p.numel() for p in model.parameters() if p.requires_grad))\n"
   ]
  },
  {
   "cell_type": "code",
   "execution_count": 13,
   "id": "90808d2b-2079-4ec1-a5a6-597fd8c1be03",
   "metadata": {},
   "outputs": [
    {
     "name": "stdout",
     "output_type": "stream",
     "text": [
      "loading noise file cifar-10-batches-py/cifar-10-batches-py//0.9_sym.json\n"
     ]
    }
   ],
   "source": [
    "import dataloader_cifar as dataloader\n",
    "\n",
    "# Dataset loader\n",
    "\n",
    "def imagenette_dataset():\n",
    "    size  = 224\n",
    "    ks = (int(0.1 * size) // 2) * 2 + 1\n",
    "    __imagenet_stats = {'mean': [0.485, 0.456, 0.406],\n",
    "                        'std': [0.229, 0.224, 0.225]}\n",
    "\n",
    "    #TODO: chose transforms\n",
    "\n",
    "    train_transform = transforms.Compose([\n",
    "                                            transforms.RandomResizedCrop(224),\n",
    "                                            transforms.RandomHorizontalFlip(),\n",
    "                                            transforms.ToTensor(),\n",
    "                                            transforms.Normalize(**__imagenet_stats)])\n",
    "\n",
    "\n",
    "    val_transform = transforms.Compose([\n",
    "                                            transforms.Resize(256),\n",
    "                                            transforms.CenterCrop(224),\n",
    "                                            transforms.ToTensor(),\n",
    "                                            transforms.Normalize(**__imagenet_stats)])\n",
    "\n",
    "    dataset_train = torchvision.datasets.ImageFolder(os.path.join(dataset_folderpath,'train'), train_transform)\n",
    "    valid_ds = torchvision.datasets.ImageFolder(os.path.join(dataset_folderpath,'val'), val_transform)\n",
    "\n",
    "    batch_size = 64\n",
    "    train_dataloader = torch.utils.data.DataLoader(\n",
    "            dataset_train,\n",
    "            batch_size=batch_size,\n",
    "            num_workers=2,\n",
    "            drop_last=True,\n",
    "            shuffle=True,\n",
    "    )\n",
    "\n",
    "    val_dataloader = torch.utils.data.DataLoader(\n",
    "            valid_ds,\n",
    "            batch_size=batch_size,\n",
    "            num_workers=2,\n",
    "            drop_last=True,\n",
    "            shuffle=False,\n",
    "    )\n",
    "    return train_dataloader, val_dataloader\n",
    "\n",
    "loader = None\n",
    "\n",
    "def cifar10_dataset(noise_ratio=0.9):\n",
    "    stats_file = open('stats_file.txt', 'w')\n",
    "    noise_mode='sym'\n",
    "    batch_size=32\n",
    "    data_path='cifar-10-batches-py/cifar-10-batches-py/'\n",
    "    global loader\n",
    "    loader = dataloader.cifar_dataloader('cifar10',r=noise_ratio,noise_mode=noise_mode,batch_size=batch_size,num_workers=5,\\\n",
    "        root_dir=data_path,log=stats_file,noise_file='%s/%.1f_%s.json'%(data_path,noise_ratio,noise_mode))\n",
    "\n",
    "    # batch shape: images, noise_label, index\n",
    "    train_dataloader = loader.run('warmup')\n",
    "\n",
    "    # first_batch = next(iter(train_dataloader))\n",
    "    # for i in first_batch:\n",
    "    #     print(i.shape)\n",
    "    # print(first_batch)\n",
    "\n",
    "    val_dataloader = loader.run('test')\n",
    "    return train_dataloader, val_dataloader\n",
    "\n",
    "\n",
    "train_dataloader, val_dataloader = cifar10_dataset()"
   ]
  },
  {
   "cell_type": "code",
   "execution_count": 14,
   "id": "bc4ad43e-9b8f-40f2-932f-99c5a05d7e2d",
   "metadata": {
    "tags": []
   },
   "outputs": [],
   "source": [
    "def validate(model, val_dataloader, criterion):\n",
    "\n",
    "    model.eval()\n",
    "    with torch.no_grad():\n",
    "\n",
    "        top1_sum = 0\n",
    "        top5_sum = 0\n",
    "        c = 0\n",
    "        for x,y in tqdm(val_dataloader):\n",
    "            x = x.cuda()\n",
    "            # x = torch.randn([64, 128]).cuda()\n",
    "            y = y.cuda()\n",
    "\n",
    "            y_hat = model(x)\n",
    "\n",
    "            acc1, acc5 = accuracy(y_hat, y, (1,5))\n",
    "            top1_sum += y.shape[0] * acc1\n",
    "            top5_sum += y.shape[0] * acc5\n",
    "            c += y.shape[0]\n",
    "        \n",
    "        print(f\"top-1: {top1_sum / c}, top-5: {top5_sum / c}\")\n",
    "        return top1_sum.item() / c, top5_sum / c\n",
    "\n"
   ]
  },
  {
   "cell_type": "code",
   "execution_count": 15,
   "id": "7c5d5394-54ea-454e-8de2-0a60cbc55f02",
   "metadata": {},
   "outputs": [],
   "source": [
    "def accuracy(output, target, topk=(1,)):\n",
    "    \"\"\"Computes the accuracy over the k top predictions for the specified values of k\"\"\"\n",
    "    with torch.no_grad():\n",
    "        maxk = max(topk)\n",
    "        batch_size = target.size(0)\n",
    "\n",
    "        _, pred = output.topk(maxk, 1, True, True)\n",
    "        pred = pred.t()\n",
    "        correct = pred.eq(target.view(1, -1).expand_as(pred))\n",
    "\n",
    "        res = []\n",
    "        for k in topk:\n",
    "            correct_k = correct[:k].flatten().float().sum(0, keepdim=True)\n",
    "            res.append(correct_k.mul_(100.0 / batch_size))\n",
    "        return res"
   ]
  },
  {
   "cell_type": "code",
   "execution_count": 16,
   "id": "62f34daf-69ef-4982-901b-85349f498029",
   "metadata": {},
   "outputs": [],
   "source": [
    "class LC(nn.Module):\n",
    "\n",
    "    def __init__(self, base_encoder, num_classes=10, learn_encoder=False):\n",
    "        super(LC, self).__init__()\n",
    "        self.encoder = base_encoder\n",
    "        if base_encoder is None:\n",
    "            raise Exception('base encoder is None')\n",
    "        for p in self.encoder.parameters():\n",
    "            p.requires_grad = learn_encoder\n",
    "\n",
    "        self.mlp = nn.Linear(128,num_classes)\n",
    "        self.sm = nn.Softmax(dim=-1)\n",
    "\n",
    "    def forward(self, x):\n",
    "        return self.sm(self.mlp(self.encoder(x)))\n"
   ]
  },
  {
   "cell_type": "code",
   "execution_count": 17,
   "id": "5f1b647b-92ce-4b47-bb69-19f3ee9ab031",
   "metadata": {},
   "outputs": [],
   "source": [
    "from collections import OrderedDict\n",
    "snapshot_name = \"simclr_chkpnt/ckpt_cifar10_resnet50.pth\"\n",
    "\n",
    "\n",
    "def fix_state_dict(state_dict):\n",
    "    # create new OrderedDict that does not contain `module.`\n",
    "    new_state_dict = OrderedDict()\n",
    "    for k, v in state_dict.items():\n",
    "        name = k[len('encoder.module.'):] # remove `module.`\n",
    "    return new_state_dict"
   ]
  },
  {
   "cell_type": "code",
   "execution_count": 18,
   "id": "f7b1aa29-9bbe-41f7-b947-863937f6d3a6",
   "metadata": {},
   "outputs": [],
   "source": [
    "from resnet import SupCEResNet\n",
    "net = \"resnet50\"\n",
    "chekpoint = torch.load(snapshot_name)\n",
    "sd = {}\n",
    "for ke in chekpoint['model']:\n",
    "    nk = ke.replace('module.', '')\n",
    "    sd[nk] = chekpoint['model'][ke]\n",
    "model = SupCEResNet(net, num_classes=10)\n",
    "for p in model.encoder.parameters():\n",
    "    p.requires_grad = False\n",
    "model.load_state_dict(sd, strict=False)\n",
    "model = model.to(\"cuda\")"
   ]
  },
  {
   "cell_type": "code",
   "execution_count": 19,
   "id": "03452998-2b20-42a0-b635-a82017cd876a",
   "metadata": {},
   "outputs": [
    {
     "name": "stdout",
     "output_type": "stream",
     "text": [
      "learnable paramters: 20490\n"
     ]
    },
    {
     "data": {
      "application/vnd.jupyter.widget-view+json": {
       "model_id": "9e924bac97fa4d0f897bfefe42b1ce2e",
       "version_major": 2,
       "version_minor": 0
      },
      "text/plain": [
       "HBox(children=(FloatProgress(value=0.0, max=313.0), HTML(value='')))"
      ]
     },
     "metadata": {},
     "output_type": "display_data"
    },
    {
     "name": "stdout",
     "output_type": "stream",
     "text": [
      "\n",
      "top-1: tensor([83.5200], device='cuda:0'), top-5: tensor([98.4300], device='cuda:0')\n"
     ]
    },
    {
     "data": {
      "text/plain": [
       "(83.52, tensor([98.4300], device='cuda:0'))"
      ]
     },
     "execution_count": 19,
     "metadata": {},
     "output_type": "execute_result"
    }
   ],
   "source": [
    "from tqdm.notebook  import tqdm\n",
    "import copy\n",
    "from resnet import resnet50\n",
    "# Stage-2\n",
    "dw_epochs = 20\n",
    "criterion = nn.CrossEntropyLoss().cuda()\n",
    "print_step = 100\n",
    "out_dir=\"cifar10/clf_learning\"\n",
    "mlp_clf = model\n",
    "# validate(mlp_clf, val_dataloader, criterion)\n",
    "print(f\"learnable paramters: {sum(torch.numel(p) for p in mlp_clf.parameters() if p.requires_grad)}\")\n",
    "\n",
    "# optimizer\n",
    "lc_opt = torch.optim.SGD(mlp_clf.parameters(), lr=3e-4 , momentum=0.9)\n",
    "lr_sched = torch.optim.lr_scheduler.CosineAnnealingLR(lc_opt, dw_epochs, 0)\n",
    "lc_opt.zero_grad()\n",
    "\n",
    "\n",
    "lin_loss_log = []\n",
    "lin_epoch_loss = []\n",
    "acc1_hist = []\n",
    "acc5_hist = []\n",
    "\n",
    "def mlp_train():\n",
    "    model.eval()\n",
    "    best_model_wts = copy.deepcopy(mlp_clf.state_dict())\n",
    "    best_val = 0\n",
    "    for epoch in range(1, dw_epochs + 1):\n",
    "        total_loss = 0\n",
    "        # images, noise_label, index\n",
    "        for batch_idx, (x, y, index) in enumerate(tqdm(train_dataloader)):\n",
    "            x = x.cuda()\n",
    "            y = y.cuda()\n",
    "            y_hat = mlp_clf(x)\n",
    "            loss = criterion(y_hat, y)\n",
    "            \n",
    "            lc_opt.zero_grad()\n",
    "            loss.backward()\n",
    "            lc_opt.step()\n",
    "            \n",
    "            total_loss += loss.item()\n",
    "            lin_loss_log.append(loss.item())\n",
    "            if batch_idx % print_step == 0:\n",
    "                tqdm.write('Loss {:.4f}'.format(loss.item()))\n",
    "\n",
    "        current_epoch_loss = total_loss/len(train_dataloader)\n",
    "        lin_epoch_loss.append(current_epoch_loss)\n",
    "        print('Epoch {}: mean loss={:.4f}'.format(epoch, current_epoch_loss))\n",
    "        lr_sched.step()\n",
    "        print(f\"update lr to: {lc_opt.param_groups[0]['lr']}\")\n",
    "        val,val5 = validate(mlp_clf, val_dataloader, criterion)\n",
    "        acc1_hist.append(val)\n",
    "        acc5_hist.append(val5)\n",
    "        print(f'Accuracy on validation set: {val}' )\n",
    "        if val > best_val:\n",
    "            best_val = val\n",
    "            best_model_wts = copy.deepcopy(mlp_clf.state_dict())\n",
    "\n",
    "        mlp_clf.train()\n",
    "        print(f\"learnable paramters: {sum(torch.numel(p) for p in mlp_clf.parameters() if p.requires_grad)}\")\n",
    "        if epoch % 10 == 0:\n",
    "            with open(f\"{out_dir}/classifier_loss_logs.pkl\", \"wb\") as f:\n",
    "                pickle.dump([lin_loss_log, lin_epoch_loss], f)\n",
    "    return best_model_wts, best_val\n",
    "\n",
    "# wts, best_val = mlp_train()\n",
    "# torch.save(wts, f\"{out_dir}/final_model_wts.bin\")\n",
    "model.load_state_dict(torch.load(f\"{out_dir}/final_model_wts.bin\"))\n",
    "# validate(mlp_clf, val_dataloader, criterion)"
   ]
  },
  {
   "cell_type": "code",
   "execution_count": 20,
   "id": "6191f77e-230b-41d2-ab50-dda97125e1c3",
   "metadata": {},
   "outputs": [
    {
     "data": {
      "text/plain": [
       "<Figure size 432x288 with 0 Axes>"
      ]
     },
     "execution_count": 20,
     "metadata": {},
     "output_type": "execute_result"
    },
    {
     "data": {
      "image/png": "[encoded data removed]",
      "text/plain": [
       "<Figure size 432x288 with 1 Axes>"
      ]
     },
     "metadata": {
      "needs_background": "light"
     },
     "output_type": "display_data"
    },
    {
     "data": {
      "image/png": "[encoded data removed]",
      "text/plain": [
       "<Figure size 432x288 with 1 Axes>"
      ]
     },
     "metadata": {
      "needs_background": "light"
     },
     "output_type": "display_data"
    },
    {
     "data": {
      "image/png": "[encoded data removed]",
      "text/plain": [
       "<Figure size 432x288 with 1 Axes>"
      ]
     },
     "metadata": {
      "needs_background": "light"
     },
     "output_type": "display_data"
    },
    {
     "data": {
      "text/plain": [
       "<Figure size 432x288 with 0 Axes>"
      ]
     },
     "metadata": {},
     "output_type": "display_data"
    }
   ],
   "source": [
    "'''Loading the Classifier Loss logs'''\n",
    "with open(f\"{out_dir}/classifier_loss_logs.pkl\",'rb') as f:\n",
    "    loss = pickle.load(f)\n",
    "    f.close()\n",
    "    \n",
    "from matplotlib import pyplot as plt\n",
    "plt.plot(loss[1])\n",
    "# plt.xscale('log')\n",
    "plt.xlabel('Epoch')\n",
    "plt.ylabel('Classifier Loss')\n",
    "plt.figure()\n",
    "\n",
    "\n",
    "''' plotting the Top-1 & Top-5 accuracy'''\n",
    "plt.plot(acc1_hist)\n",
    "plt.xlabel('Epoch')\n",
    "plt.ylabel('Top-1 Accuracy')\n",
    "plt.figure()\n",
    "hist5 = [a.item() for a in acc5_hist]\n",
    "plt.plot(hist5)\n",
    "plt.xlabel('Epoch')\n",
    "plt.ylabel('Top-5 Accuracy')\n",
    "plt.figure()\n",
    "\n"
   ]
  },
  {
   "cell_type": "code",
   "execution_count": 32,
   "id": "57ed38c4-7c50-492a-9c87-7bfc65d29613",
   "metadata": {},
   "outputs": [
    {
     "name": "stdout",
     "output_type": "stream",
     "text": [
      "loading noise file cifar-10-batches-py/cifar-10-batches-py//0.9_sym.json\n",
      "loading noise file cifar-10-batches-py/cifar-10-batches-py//0.9_sym.json\n",
      "labeled data has a size of 7888\n",
      "using CBS\n",
      "loading noise file cifar-10-batches-py/cifar-10-batches-py//0.9_sym.json\n",
      "unlabeled data has a size of 42112\n"
     ]
    }
   ],
   "source": [
    "from sklearn.mixture import GaussianMixture\n",
    "import dataloader_cifar as dataloader\n",
    "\n",
    "def get_train(model, dataloader, estimate_p_right=True, p_right_threshold=0.5, p_clean_threshold=0.5, CBS=True):\n",
    "    model.eval()\n",
    "    losses = torch.zeros(len(dataloader.dataset))\n",
    "    confidence = torch.zeros(len(dataloader.dataset))\n",
    "    with torch.no_grad():\n",
    "        for batch_idx, (inputs, targets, index) in enumerate(dataloader):\n",
    "            inputs, targets = inputs.cuda(), targets.cuda() \n",
    "            outputs = model(inputs)\n",
    "            loss = nn.CrossEntropyLoss(reduction='none')(outputs, targets)\n",
    "            probs = torch.max(torch.softmax(outputs, dim=-1), dim=-1).values\n",
    "            for b in range(inputs.size(0)):\n",
    "                losses[index[b]]=loss[b]\n",
    "                confidence[index[b]] = probs[b]\n",
    "    losses = (losses-losses.min())/(losses.max()-losses.min())\n",
    "\n",
    "    input_loss = losses.reshape(-1, 1)\n",
    "    confidence = confidence.reshape(-1, 1)\n",
    "    # fit a two-component GMM to the loss\n",
    "    gmm1 = GaussianMixture(n_components=2,max_iter=10,tol=1e-2,reg_covar=5e-4)\n",
    "    gmm1.fit(input_loss)\n",
    "    prob = gmm1.predict_proba(input_loss)\n",
    "    p_clean = prob[:,gmm1.means_.argmin()]\n",
    "    clean = (p_clean > p_clean_threshold)\n",
    "    if estimate_p_right:\n",
    "        gmm2 = GaussianMixture(n_components=2,max_iter=10,tol=1e-2,reg_covar=5e-4)\n",
    "        gmm2.fit(confidence)\n",
    "        prob = gmm2.predict_proba(confidence)\n",
    "        p_right = prob[:, gmm2.means_.argmax()]\n",
    "        right = (p_right > p_right_threshold)\n",
    "        clean = clean | right\n",
    "    return loader.run('train', clean, p_clean, CBS)\n",
    "\n",
    "labeled_trainloader, unlabeled_trainloader = get_train(model, loader.run('eval_train'))"
   ]
  },
  {
   "cell_type": "code",
   "execution_count": 39,
   "id": "f19002db-66d8-49a8-b08f-06f3962fdd0b",
   "metadata": {},
   "outputs": [],
   "source": [
    "# counter = torch.zeros(10)\n",
    "# print(counter)\n",
    "# for i in labeled_trainloader.dataset:\n",
    "#     counter[i[2]] += 1\n",
    "# print(counter)\n",
    "# counter / sum(counter)\n",
    "i = 0\n",
    "hist = torch.zeros(10)\n",
    "for b in labeled_trainloader:\n",
    "    for j in b[2]:\n",
    "        hist[j] += 1\n",
    "    i+= 1\n",
    "\n",
    "        "
   ]
  },
  {
   "cell_type": "code",
   "execution_count": 1,
   "id": "b247965f-b4a1-48f6-b8a0-3b4684e64b68",
   "metadata": {},
   "outputs": [
    {
     "ename": "NameError",
     "evalue": "name 'torch' is not defined",
     "output_type": "error",
     "traceback": [
      "\u001b[0;31m---------------------------------------------------------------------------\u001b[0m",
      "\u001b[0;31mNameError\u001b[0m                                 Traceback (most recent call last)",
      "\u001b[0;32m<ipython-input-1-06e359bb4625>\u001b[0m in \u001b[0;36m<module>\u001b[0;34m\u001b[0m\n\u001b[0;32m----> 1\u001b[0;31m \u001b[0mtorch\u001b[0m\u001b[0;34m\u001b[0m\u001b[0;34m\u001b[0m\u001b[0m\n\u001b[0m",
      "\u001b[0;31mNameError\u001b[0m: name 'torch' is not defined"
     ]
    }
   ],
   "source": []
  },
  {
   "cell_type": "code",
   "execution_count": 40,
   "id": "047c4f5a-907e-4a79-a1cb-3b9a9450900a",
   "metadata": {},
   "outputs": [
    {
     "data": {
      "text/plain": [
       "tensor([771., 730., 807., 840., 765., 835., 808., 791., 769., 772.])"
      ]
     },
     "execution_count": 40,
     "metadata": {},
     "output_type": "execute_result"
    }
   ],
   "source": [
    "hist"
   ]
  },
  {
   "cell_type": "code",
   "execution_count": 24,
   "id": "0f0118df-8189-4e0e-a81f-f211af6010aa",
   "metadata": {},
   "outputs": [
    {
     "ename": "NameError",
     "evalue": "name 'model_out' is not defined",
     "output_type": "error",
     "traceback": [
      "\u001b[0;31m---------------------------------------------------------------------------\u001b[0m",
      "\u001b[0;31mNameError\u001b[0m                                 Traceback (most recent call last)",
      "\u001b[0;32m<ipython-input-24-bb177b70d948>\u001b[0m in \u001b[0;36m<module>\u001b[0;34m\u001b[0m\n\u001b[1;32m      1\u001b[0m \u001b[0msorteddel_out\u001b[0m \u001b[0;34m=\u001b[0m \u001b[0mmodel\u001b[0m\u001b[0;34m(\u001b[0m\u001b[0mtorch\u001b[0m\u001b[0;34m.\u001b[0m\u001b[0mrand\u001b[0m\u001b[0;34m(\u001b[0m\u001b[0;36m5\u001b[0m\u001b[0;34m,\u001b[0m \u001b[0;36m3\u001b[0m\u001b[0;34m,\u001b[0m \u001b[0;36m32\u001b[0m\u001b[0;34m,\u001b[0m \u001b[0;36m32\u001b[0m\u001b[0;34m)\u001b[0m\u001b[0;34m.\u001b[0m\u001b[0mcuda\u001b[0m\u001b[0;34m(\u001b[0m\u001b[0;34m)\u001b[0m\u001b[0;34m)\u001b[0m\u001b[0;34m\u001b[0m\u001b[0;34m\u001b[0m\u001b[0m\n\u001b[0;32m----> 2\u001b[0;31m \u001b[0mprint\u001b[0m\u001b[0;34m(\u001b[0m\u001b[0mtorch\u001b[0m\u001b[0;34m.\u001b[0m\u001b[0msoftmax\u001b[0m\u001b[0;34m(\u001b[0m\u001b[0mmodel_out\u001b[0m\u001b[0;34m,\u001b[0m \u001b[0mdim\u001b[0m\u001b[0;34m=\u001b[0m\u001b[0;34m-\u001b[0m\u001b[0;36m1\u001b[0m\u001b[0;34m)\u001b[0m\u001b[0;34m)\u001b[0m\u001b[0;34m\u001b[0m\u001b[0;34m\u001b[0m\u001b[0m\n\u001b[0m\u001b[1;32m      3\u001b[0m \u001b[0mtorch\u001b[0m\u001b[0;34m.\u001b[0m\u001b[0mmax\u001b[0m\u001b[0;34m(\u001b[0m\u001b[0mtorch\u001b[0m\u001b[0;34m.\u001b[0m\u001b[0msoftmax\u001b[0m\u001b[0;34m(\u001b[0m\u001b[0mmodel_out\u001b[0m\u001b[0;34m,\u001b[0m \u001b[0mdim\u001b[0m\u001b[0;34m=\u001b[0m\u001b[0;34m-\u001b[0m\u001b[0;36m1\u001b[0m\u001b[0;34m)\u001b[0m\u001b[0;34m,\u001b[0m \u001b[0mdim\u001b[0m\u001b[0;34m=\u001b[0m\u001b[0;34m-\u001b[0m\u001b[0;36m1\u001b[0m\u001b[0;34m)\u001b[0m\u001b[0;34m.\u001b[0m\u001b[0mvalues\u001b[0m\u001b[0;34m\u001b[0m\u001b[0;34m\u001b[0m\u001b[0m\n",
      "\u001b[0;31mNameError\u001b[0m: name 'model_out' is not defined"
     ]
    }
   ],
   "source": [
    "sorteddel_out = model(torch.rand(5, 3, 32, 32).cuda())\n",
    "print(torch.softmax(model_out, dim=-1))\n",
    "torch.max(torch.softmax(model_out, dim=-1), dim=-1).values"
   ]
  },
  {
   "cell_type": "code",
   "execution_count": null,
   "id": "f783dc85-e910-4a1d-ad42-d32fc7c0393f",
   "metadata": {},
   "outputs": [],
   "source": []
  },
  {
   "cell_type": "code",
   "execution_count": null,
   "id": "806cc54e-8bba-404a-9cae-90e37f9a81d6",
   "metadata": {},
   "outputs": [],
   "source": []
  },
  {
   "cell_type": "code",
   "execution_count": null,
   "id": "fd6da49e-bd32-4a2a-987c-f4e05ef745a1",
   "metadata": {},
   "outputs": [],
   "source": []
  },
  {
   "cell_type": "code",
   "execution_count": null,
   "id": "950d4d00-886b-4167-b1f9-df4f74cf8fb1",
   "metadata": {},
   "outputs": [],
   "source": []
  },
  {
   "cell_type": "code",
   "execution_count": null,
   "id": "c57765bc-308a-47cb-8142-eac050dfe558",
   "metadata": {},
   "outputs": [],
   "source": []
  },
  {
   "cell_type": "code",
   "execution_count": null,
   "id": "1b43b6d0-0686-40b4-91ca-304f9c34538b",
   "metadata": {},
   "outputs": [],
   "source": []
  },
  {
   "cell_type": "code",
   "execution_count": null,
   "id": "57047885-821d-47f7-9e0e-6c110f59f597",
   "metadata": {},
   "outputs": [],
   "source": []
  },
  {
   "cell_type": "code",
   "execution_count": null,
   "id": "6af4205a-63a3-4bca-8881-79101d70fd52",
   "metadata": {},
   "outputs": [],
   "source": []
  },
  {
   "cell_type": "code",
   "execution_count": null,
   "id": "a90c6fb7-bb4b-44be-9ef6-7115e1ff2e6e",
   "metadata": {},
   "outputs": [],
   "source": []
  },
  {
   "cell_type": "code",
   "execution_count": null,
   "id": "0b9c5220-abf6-48cd-8770-aa101c5e80a6",
   "metadata": {},
   "outputs": [],
   "source": []
  },
  {
   "cell_type": "code",
   "execution_count": null,
   "id": "080384af-5f30-470b-b3b0-c03ca62d3a03",
   "metadata": {},
   "outputs": [],
   "source": []
  },
  {
   "cell_type": "code",
   "execution_count": null,
   "id": "86ac4925-75dd-49fd-9b9e-4555193e2c1c",
   "metadata": {},
   "outputs": [],
   "source": []
  },
  {
   "cell_type": "code",
   "execution_count": 41,
   "id": "b67aa42f-20cd-466a-a3b6-3e6a50c92fb6",
   "metadata": {},
   "outputs": [],
   "source": [
    "L = next(iter(labeled_trainloader))[::2]\n",
    "U = next(iter(unlabeled_trainloader))[1]"
   ]
  },
  {
   "cell_type": "code",
   "execution_count": 42,
   "id": "60214364-6afa-4bc9-8f3d-6fc4ff98ca0e",
   "metadata": {},
   "outputs": [],
   "source": [
    "model_out1 = model(U.cuda())\n",
    "model_out1 = torch.softmax(model_out1, dim=-1)"
   ]
  },
  {
   "cell_type": "code",
   "execution_count": 43,
   "id": "7fc7b26b-5edc-4005-8a05-053feeb507f8",
   "metadata": {},
   "outputs": [],
   "source": [
    "model_out1.shape\n",
    "L1 = torch.zeros_like(model_out1).cuda()"
   ]
  },
  {
   "cell_type": "code",
   "execution_count": 44,
   "id": "eff92713-51ed-41f3-beab-557643a18c51",
   "metadata": {},
   "outputs": [
    {
     "name": "stdout",
     "output_type": "stream",
     "text": [
      "tensor([5, 3, 1, 2, 1, 6, 4, 6, 5, 7, 5, 9, 1, 4, 5, 8, 1, 4, 3, 5, 5, 4, 7, 9,\n",
      "        0, 7, 0, 4, 0, 8, 9, 7])\n"
     ]
    },
    {
     "data": {
      "text/plain": [
       "tensor([[0., 0., 0., 0., 0., 1., 0., 0., 0., 0.],\n",
       "        [0., 0., 0., 1., 0., 0., 0., 0., 0., 0.],\n",
       "        [0., 1., 0., 0., 0., 0., 0., 0., 0., 0.],\n",
       "        [0., 0., 1., 0., 0., 0., 0., 0., 0., 0.],\n",
       "        [0., 1., 0., 0., 0., 0., 0., 0., 0., 0.],\n",
       "        [0., 0., 0., 0., 0., 0., 1., 0., 0., 0.],\n",
       "        [0., 0., 0., 0., 1., 0., 0., 0., 0., 0.],\n",
       "        [0., 0., 0., 0., 0., 0., 1., 0., 0., 0.],\n",
       "        [0., 0., 0., 0., 0., 1., 0., 0., 0., 0.],\n",
       "        [0., 0., 0., 0., 0., 0., 0., 1., 0., 0.],\n",
       "        [0., 0., 0., 0., 0., 1., 0., 0., 0., 0.],\n",
       "        [0., 0., 0., 0., 0., 0., 0., 0., 0., 1.],\n",
       "        [0., 1., 0., 0., 0., 0., 0., 0., 0., 0.],\n",
       "        [0., 0., 0., 0., 1., 0., 0., 0., 0., 0.],\n",
       "        [0., 0., 0., 0., 0., 1., 0., 0., 0., 0.],\n",
       "        [0., 0., 0., 0., 0., 0., 0., 0., 1., 0.],\n",
       "        [0., 1., 0., 0., 0., 0., 0., 0., 0., 0.],\n",
       "        [0., 0., 0., 0., 1., 0., 0., 0., 0., 0.],\n",
       "        [0., 0., 0., 1., 0., 0., 0., 0., 0., 0.],\n",
       "        [0., 0., 0., 0., 0., 1., 0., 0., 0., 0.],\n",
       "        [0., 0., 0., 0., 0., 1., 0., 0., 0., 0.],\n",
       "        [0., 0., 0., 0., 1., 0., 0., 0., 0., 0.],\n",
       "        [0., 0., 0., 0., 0., 0., 0., 1., 0., 0.],\n",
       "        [0., 0., 0., 0., 0., 0., 0., 0., 0., 1.],\n",
       "        [1., 0., 0., 0., 0., 0., 0., 0., 0., 0.],\n",
       "        [0., 0., 0., 0., 0., 0., 0., 1., 0., 0.],\n",
       "        [1., 0., 0., 0., 0., 0., 0., 0., 0., 0.],\n",
       "        [0., 0., 0., 0., 1., 0., 0., 0., 0., 0.],\n",
       "        [1., 0., 0., 0., 0., 0., 0., 0., 0., 0.],\n",
       "        [0., 0., 0., 0., 0., 0., 0., 0., 1., 0.],\n",
       "        [0., 0., 0., 0., 0., 0., 0., 0., 0., 1.],\n",
       "        [0., 0., 0., 0., 0., 0., 0., 1., 0., 0.]])"
      ]
     },
     "execution_count": 44,
     "metadata": {},
     "output_type": "execute_result"
    }
   ],
   "source": [
    "src = torch.ones(32,10)\n",
    "print(L[1])\n",
    "torch.zeros(32,10).scatter_(1,L[1].unsqueeze(-1),src)"
   ]
  },
  {
   "cell_type": "code",
   "execution_count": null,
   "id": "412e6d75-2d6b-490d-a9c5-bc160e868baf",
   "metadata": {},
   "outputs": [],
   "source": [
    "L[1]"
   ]
  },
  {
   "cell_type": "code",
   "execution_count": 225,
   "id": "27b31de6-75b2-4b75-a2d8-9cabb71de76a",
   "metadata": {},
   "outputs": [],
   "source": [
    "import torch\n",
    "from torch.nn import ReLU\n",
    "from torch.nn.functional import normalize\n",
    "Re = ReLU()\n",
    "src = torch.ones(32,10)\n",
    "def graph_structured_regularization(model, L, U, lambda_uu, lambda_lu, tau): #U-unlabled class, L-labled, \n",
    "    Z_l = model.encoder(L[0].cuda())\n",
    "    Z_u = model.encoder(U.cuda())\n",
    "    Z_l = normalize(Z_l,dim=1)\n",
    "    Z_u = normalize(Z_u,dim=1)\n",
    "    A_lu = Re(torch.matmul(Z_l, Z_u.t())-tau)\n",
    "    A_uu = Re(torch.matmul(Z_u, Z_u.t())-tau)\n",
    "    y_hat = torch.zeros(32,10).scatter_(1,L[1].unsqueeze(-1),src).cuda()\n",
    "    p = model(U.cuda())\n",
    "    p = torch.softmax(p, dim=-1)\n",
    "    one_vec = torch.ones(32).t().unsqueeze(dim=-1).cuda()\n",
    "    P_mat = kronecker_product(one_vec,p).reshape(32,32,10)\n",
    "    Y_mat = kronecker_product(one_vec,y_hat).reshape(32,32,10)\n",
    "    Y_mat = torch.transpose(Y_mat,0,1)\n",
    "    norm_lu = torch.norm(P_mat - Y_mat, dim = -1)\n",
    "    norm_uu = torch.norm(P_mat - torch.transpose(P_mat,0,1), dim = -1)\n",
    "    #print(norm_lu.shape,norm_uu.shape)\n",
    "    return (lambda_lu*A_lu*norm_lu).sum() + (lambda_uu*A_uu*norm_uu).sum()"
   ]
  },
  {
   "cell_type": "code",
   "execution_count": 168,
   "id": "c0992f89-e8b9-4325-8be1-cd23f346dc8f",
   "metadata": {},
   "outputs": [],
   "source": [
    "def kronecker_product(t1, t2):\n",
    "    \"\"\"\n",
    "    Computes the Kronecker product between two tensors.\n",
    "    See https://en.wikipedia.org/wiki/Kronecker_product\n",
    "    \"\"\"\n",
    "    t1_height, t1_width = t1.shape\n",
    "    t2_height, t2_width = t2.shape\n",
    "    out_height = t1_height * t2_height\n",
    "    out_width = t1_width * t2_width\n",
    "\n",
    "    tiled_t2 = t2.repeat(t1_height, t1_width)\n",
    "    expanded_t1 = (\n",
    "        t1.unsqueeze(2)\n",
    "          .unsqueeze(3)\n",
    "          .repeat(1, t2_height, t2_width, 1)\n",
    "          .view(out_height, out_width)\n",
    "    )\n",
    "\n",
    "    return expanded_t1 * tiled_t2"
   ]
  },
  {
   "cell_type": "code",
   "execution_count": 229,
   "id": "c4772681-b3ce-462f-bf67-de2fd31e4c5a",
   "metadata": {},
   "outputs": [
    {
     "data": {
      "text/plain": [
       "tensor([[0, 1],\n",
       "        [2, 3],\n",
       "        [4, 5],\n",
       "        [6, 7]])"
      ]
     },
     "execution_count": 229,
     "metadata": {},
     "output_type": "execute_result"
    }
   ],
   "source": [
    "p = torch.tensor(range(8)).reshape(4,2)\n",
    "p"
   ]
  },
  {
   "cell_type": "code",
   "execution_count": 231,
   "id": "1a6fdce1-4b42-4f97-897e-09a6f3ed9088",
   "metadata": {},
   "outputs": [],
   "source": [
    "a = kronecker_product(torch.ones(4).t().unsqueeze(dim=-1),p.squeeze(dim=1)).reshape(4,4,2)"
   ]
  },
  {
   "cell_type": "code",
   "execution_count": 233,
   "id": "4d321a5e-b81a-44ac-93b1-9ddf7e67ebd9",
   "metadata": {},
   "outputs": [
    {
     "data": {
      "text/plain": [
       "tensor([[[0., 1.],\n",
       "         [2., 3.],\n",
       "         [4., 5.],\n",
       "         [6., 7.]],\n",
       "\n",
       "        [[0., 1.],\n",
       "         [2., 3.],\n",
       "         [4., 5.],\n",
       "         [6., 7.]],\n",
       "\n",
       "        [[0., 1.],\n",
       "         [2., 3.],\n",
       "         [4., 5.],\n",
       "         [6., 7.]],\n",
       "\n",
       "        [[0., 1.],\n",
       "         [2., 3.],\n",
       "         [4., 5.],\n",
       "         [6., 7.]]])"
      ]
     },
     "execution_count": 233,
     "metadata": {},
     "output_type": "execute_result"
    }
   ],
   "source": [
    "a"
   ]
  },
  {
   "cell_type": "code",
   "execution_count": 193,
   "id": "ce83cf42-ada7-4185-a80c-b9ae89c0a425",
   "metadata": {},
   "outputs": [
    {
     "data": {
      "text/plain": [
       "torch.Size([32, 1, 10])"
      ]
     },
     "execution_count": 193,
     "metadata": {},
     "output_type": "execute_result"
    }
   ],
   "source": [
    "p.shape"
   ]
  },
  {
   "cell_type": "code",
   "execution_count": 221,
   "id": "f9eac2ff-1a02-4a10-9a64-969e375b8604",
   "metadata": {},
   "outputs": [
    {
     "name": "stdout",
     "output_type": "stream",
     "text": [
      "torch.Size([10])\n"
     ]
    },
    {
     "data": {
      "text/plain": [
       "tensor(10.)"
      ]
     },
     "execution_count": 221,
     "metadata": {},
     "output_type": "execute_result"
    }
   ],
   "source": [
    "a = torch.ones(10)\n",
    "b = torch.ones(10)\n",
    "c = a * b\n",
    "print(c.shape)\n",
    "c.sum()"
   ]
  },
  {
   "cell_type": "code",
   "execution_count": null,
   "id": "7d664dbf-d4e3-430e-b0af-826435deeaee",
   "metadata": {},
   "outputs": [],
   "source": []
  }
 ],
 "metadata": {
  "kernelspec": {
   "display_name": "Python 3",
   "language": "python",
   "name": "python3"
  },
  "language_info": {
   "codemirror_mode": {
    "name": "ipython",
    "version": 3
   },
   "file_extension": ".py",
   "mimetype": "text/x-python",
   "name": "python",
   "nbconvert_exporter": "python",
   "pygments_lexer": "ipython3",
   "version": "3.8.10"
  }
 },
 "nbformat": 4,
 "nbformat_minor": 5
}
