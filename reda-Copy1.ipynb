{
 "cells": [
  {
   "cell_type": "code",
   "execution_count": 1,
   "id": "e65e195e-9dbe-4c26-b47d-a5f51bb048d6",
   "metadata": {
    "tags": []
   },
   "outputs": [],
   "source": [
    "import torch\n",
    "from torch import nn\n",
    "import torchvision.models\n",
    "import pickle\n",
    "\n",
    "import torchvision\n",
    "import torch\n",
    "from torchvision.transforms import transforms\n",
    "import numpy as np"
   ]
  },
  {
   "cell_type": "code",
   "execution_count": 2,
   "id": "1351c986-49b2-4bcd-90ca-c7af06cef220",
   "metadata": {},
   "outputs": [],
   "source": [
    "class AverageMeter(object):\n",
    "    \"\"\"Computes and stores the average and current value\n",
    "       Imported from https://github.com/pytorch/examples/blob/master/imagenet/main.py#L247-L262\n",
    "    \"\"\"\n",
    "    def __init__(self):\n",
    "        self.reset()\n",
    "\n",
    "    def reset(self):\n",
    "        self.val = 0\n",
    "        self.avg = 0\n",
    "        self.sum = 0\n",
    "        self.count = 0\n",
    "\n",
    "    def update(self, val, n=1):\n",
    "        self.val = val\n",
    "        self.sum += val * n\n",
    "        self.count += n\n",
    "        self.avg = self.sum / self.count"
   ]
  },
  {
   "cell_type": "code",
   "execution_count": 3,
   "id": "90808d2b-2079-4ec1-a5a6-597fd8c1be03",
   "metadata": {},
   "outputs": [
    {
     "name": "stdout",
     "output_type": "stream",
     "text": [
      "loading noise file cifar-10-batches-py/cifar-10-batches-py//0.9_sym.json\n"
     ]
    }
   ],
   "source": [
    "import dataloader_cifar as dataloader\n",
    "\n",
    "# Dataset loader\n",
    "\n",
    "def imagenette_dataset():\n",
    "    size  = 224\n",
    "    ks = (int(0.1 * size) // 2) * 2 + 1\n",
    "    __imagenet_stats = {'mean': [0.485, 0.456, 0.406],\n",
    "                        'std': [0.229, 0.224, 0.225]}\n",
    "\n",
    "    #TODO: chose transforms\n",
    "\n",
    "    train_transform = transforms.Compose([\n",
    "                                            transforms.RandomResizedCrop(224),\n",
    "                                            transforms.RandomHorizontalFlip(),\n",
    "                                            transforms.ToTensor(),\n",
    "                                            transforms.Normalize(**__imagenet_stats)])\n",
    "\n",
    "\n",
    "    val_transform = transforms.Compose([\n",
    "                                            transforms.Resize(256),\n",
    "                                            transforms.CenterCrop(224),\n",
    "                                            transforms.ToTensor(),\n",
    "                                            transforms.Normalize(**__imagenet_stats)])\n",
    "\n",
    "    dataset_train = torchvision.datasets.ImageFolder(os.path.join(dataset_folderpath,'train'), train_transform)\n",
    "    valid_ds = torchvision.datasets.ImageFolder(os.path.join(dataset_folderpath,'val'), val_transform)\n",
    "\n",
    "    batch_size = 64\n",
    "    train_dataloader = torch.utils.data.DataLoader(\n",
    "            dataset_train,\n",
    "            batch_size=batch_size,\n",
    "            num_workers=2,\n",
    "            drop_last=True,\n",
    "            shuffle=True,\n",
    "    )\n",
    "\n",
    "    val_dataloader = torch.utils.data.DataLoader(\n",
    "            valid_ds,\n",
    "            batch_size=batch_size,\n",
    "            num_workers=2,\n",
    "            drop_last=True,\n",
    "            shuffle=False,\n",
    "    )\n",
    "    return train_dataloader, val_dataloader\n",
    "\n",
    "loader = None\n",
    "\n",
    "def cifar10_dataset(noise_ratio=0.9):\n",
    "    noise_mode='sym'\n",
    "    batch_size=32\n",
    "    data_path='cifar-10-batches-py/cifar-10-batches-py/'\n",
    "    global loader\n",
    "    loader = dataloader.cifar_dataloader('cifar10',r=noise_ratio,noise_mode=noise_mode,batch_size=batch_size,num_workers=5,\\\n",
    "        root_dir=data_path,noise_file='%s/%.1f_%s.json'%(data_path,noise_ratio,noise_mode))\n",
    "\n",
    "    # batch shape: images, noise_label, index\n",
    "    train_dataloader = loader.run('warmup')\n",
    "\n",
    "    val_dataloader = loader.run('test')\n",
    "    return train_dataloader, val_dataloader\n",
    "\n",
    "\n",
    "train_dataloader, val_dataloader = cifar10_dataset()"
   ]
  },
  {
   "cell_type": "code",
   "execution_count": 4,
   "id": "bc4ad43e-9b8f-40f2-932f-99c5a05d7e2d",
   "metadata": {
    "tags": []
   },
   "outputs": [],
   "source": [
    "def validate(model, val_dataloader):\n",
    "\n",
    "    model.eval()\n",
    "    \n",
    "    with torch.no_grad():\n",
    "\n",
    "        top1_sum = 0\n",
    "        top5_sum = 0\n",
    "        c = 0\n",
    "        for b in tqdm(val_dataloader):\n",
    "            x = b[0].cuda()\n",
    "            y = b[1].cuda()\n",
    "\n",
    "            y_hat = model(x)\n",
    "\n",
    "            acc1, acc5 = accuracy(y_hat, y, (1,5))\n",
    "            top1_sum += y.shape[0] * acc1\n",
    "            top5_sum += y.shape[0] * acc5\n",
    "            c += y.shape[0]\n",
    "        \n",
    "        top1_acc = top1_sum.item() / c\n",
    "        top5_acc = top5_sum / c\n",
    "        print(f\"validation acc: top-1: {top1_acc}, top-5: {top5_acc}\")\n",
    "        return top1_acc, top5_acc\n",
    "\n"
   ]
  },
  {
   "cell_type": "code",
   "execution_count": 5,
   "id": "7c5d5394-54ea-454e-8de2-0a60cbc55f02",
   "metadata": {},
   "outputs": [],
   "source": [
    "def accuracy(output, target, topk=(1,)):\n",
    "    \"\"\"Computes the accuracy over the k top predictions for the specified values of k\"\"\"\n",
    "    with torch.no_grad():\n",
    "        maxk = max(topk)\n",
    "        batch_size = target.size(0)\n",
    "\n",
    "        _, pred = output.topk(maxk, 1, True, True)\n",
    "        pred = pred.t()\n",
    "        correct = pred.eq(target.view(1, -1).expand_as(pred))\n",
    "\n",
    "        res = []\n",
    "        for k in topk:\n",
    "            correct_k = correct[:k].flatten().float().sum(0, keepdim=True)\n",
    "            res.append(correct_k.mul_(100.0 / batch_size))\n",
    "        return res"
   ]
  },
  {
   "cell_type": "code",
   "execution_count": 6,
   "id": "5f1b647b-92ce-4b47-bb69-19f3ee9ab031",
   "metadata": {},
   "outputs": [],
   "source": [
    "from collections import OrderedDict\n",
    "snapshot_name = \"simclr_chkpnt/ckpt_cifar10_resnet50.pth\"\n",
    "\n",
    "\n",
    "def fix_state_dict(state_dict):\n",
    "    # create new OrderedDict that does not contain `module.`\n",
    "    new_state_dict = OrderedDict()\n",
    "    for k, v in state_dict.items():\n",
    "        name = k[len('encoder.module.'):] # remove `module.`\n",
    "    return new_state_dict"
   ]
  },
  {
   "cell_type": "code",
   "execution_count": 7,
   "id": "bd220b63-8dde-4387-9031-36f651d95fe0",
   "metadata": {},
   "outputs": [],
   "source": [
    "def switch_encoder(model, state):\n",
    "    for p in model.encoder.parameters():\n",
    "        p.requires_grad = state"
   ]
  },
  {
   "cell_type": "code",
   "execution_count": 8,
   "id": "f7b1aa29-9bbe-41f7-b947-863937f6d3a6",
   "metadata": {},
   "outputs": [],
   "source": [
    "from resnet import SupCEResNet\n",
    "net = \"resnet50\"\n",
    "chekpoint = torch.load(snapshot_name)\n",
    "sd = {}\n",
    "for ke in chekpoint['model']:\n",
    "    nk = ke.replace('module.', '')\n",
    "    sd[nk] = chekpoint['model'][ke]\n",
    "model = SupCEResNet(net, num_classes=10)\n",
    "model.load_state_dict(sd, strict=False)\n",
    "model = model.to(\"cuda\")"
   ]
  },
  {
   "cell_type": "code",
   "execution_count": 9,
   "id": "03452998-2b20-42a0-b635-a82017cd876a",
   "metadata": {},
   "outputs": [
    {
     "name": "stdout",
     "output_type": "stream",
     "text": [
      "learnable paramters: 20490\n"
     ]
    },
    {
     "data": {
      "text/plain": [
       "<All keys matched successfully>"
      ]
     },
     "execution_count": 9,
     "metadata": {},
     "output_type": "execute_result"
    }
   ],
   "source": [
    "from tqdm.notebook  import tqdm\n",
    "import copy\n",
    "from resnet import resnet50\n",
    "# Stage-2\n",
    "dw_epochs = 50\n",
    "criterion = nn.CrossEntropyLoss().cuda()\n",
    "print_step = 100\n",
    "out_dir=\"cifar10/clf_learning\"\n",
    "switch_encoder(model, False)\n",
    "# validate(model, val_dataloader)\n",
    "print(f\"learnable paramters: {sum(torch.numel(p) for p in model.parameters() if p.requires_grad)}\")\n",
    "\n",
    "# optimizer\n",
    "lc_opt = torch.optim.SGD(model.parameters(), lr=3e-3 , momentum=0.9)\n",
    "lr_sched = torch.optim.lr_scheduler.CosineAnnealingLR(lc_opt, dw_epochs, 0)\n",
    "lc_opt.zero_grad()\n",
    "\n",
    "\n",
    "lin_loss_log = []\n",
    "lin_epoch_loss = []\n",
    "acc1_hist = []\n",
    "acc5_hist = []\n",
    "\n",
    "def mlp_train():\n",
    "    model.eval()\n",
    "    best_model_wts = copy.deepcopy(model.state_dict())\n",
    "    best_val = 0\n",
    "    for epoch in range(1, dw_epochs + 1):\n",
    "        total_loss = 0\n",
    "        # images, noise_label, index\n",
    "        for batch_idx, (x, y, index) in enumerate(tqdm(train_dataloader)):\n",
    "            x = x.cuda()\n",
    "            y = y.cuda()\n",
    "            y_hat = model(x)\n",
    "            loss = criterion(y_hat, y)\n",
    "            \n",
    "            lc_opt.zero_grad()\n",
    "            loss.backward()\n",
    "            lc_opt.step()\n",
    "            \n",
    "            total_loss += loss.item()\n",
    "            lin_loss_log.append(loss.item())\n",
    "            if batch_idx % print_step == 0:\n",
    "                tqdm.write('Loss {:.4f}'.format(loss.item()))\n",
    "\n",
    "        current_epoch_loss = total_loss/len(train_dataloader)\n",
    "        lin_epoch_loss.append(current_epoch_loss)\n",
    "        print('Epoch {}: mean loss={:.4f}'.format(epoch, current_epoch_loss))\n",
    "        lr_sched.step()\n",
    "        print(f\"update lr to: {lc_opt.param_groups[0]['lr']}\")\n",
    "        val,val5 = validate(model, val_dataloader)\n",
    "        acc1_hist.append(val)\n",
    "        acc5_hist.append(val5)\n",
    "        if val > best_val:\n",
    "            best_val = val\n",
    "            best_model_wts = copy.deepcopy(model.state_dict())\n",
    "\n",
    "        model.train()\n",
    "        print(f\"learnable paramters: {sum(torch.numel(p) for p in model.parameters() if p.requires_grad)}\")\n",
    "        if epoch % 10 == 0:\n",
    "            with open(f\"{out_dir}/classifier_loss_logs.pkl\", \"wb\") as f:\n",
    "                pickle.dump([lin_loss_log, lin_epoch_loss], f)\n",
    "    return best_model_wts, best_val\n",
    "\n",
    "# wts, best_val = mlp_train()\n",
    "# torch.save(wts, f\"{out_dir}/final_model_wts.bin\")\n",
    "model.load_state_dict(torch.load(f\"{out_dir}/final_model_wts.bin\"))\n",
    "# validate(model, val_dataloader)\n",
    "# validate(model, loader.run('eval_train'))"
   ]
  },
  {
   "cell_type": "code",
   "execution_count": 10,
   "id": "6191f77e-230b-41d2-ab50-dda97125e1c3",
   "metadata": {},
   "outputs": [
    {
     "data": {
      "text/plain": [
       "<Figure size 432x288 with 0 Axes>"
      ]
     },
     "execution_count": 10,
     "metadata": {},
     "output_type": "execute_result"
    },
    {
     "data": {
      "image/png": "[encoded data removed]",
      "text/plain": [
       "<Figure size 432x288 with 1 Axes>"
      ]
     },
     "metadata": {
      "needs_background": "light"
     },
     "output_type": "display_data"
    },
    {
     "data": {
      "image/png": "[encoded data removed]",
      "text/plain": [
       "<Figure size 432x288 with 1 Axes>"
      ]
     },
     "metadata": {
      "needs_background": "light"
     },
     "output_type": "display_data"
    },
    {
     "data": {
      "image/png": "[encoded data removed]",
      "text/plain": [
       "<Figure size 432x288 with 1 Axes>"
      ]
     },
     "metadata": {
      "needs_background": "light"
     },
     "output_type": "display_data"
    },
    {
     "data": {
      "text/plain": [
       "<Figure size 432x288 with 0 Axes>"
      ]
     },
     "metadata": {},
     "output_type": "display_data"
    }
   ],
   "source": [
    "'''Loading the Classifier Loss logs'''\n",
    "with open(f\"{out_dir}/classifier_loss_logs.pkl\",'rb') as f:\n",
    "    loss = pickle.load(f)\n",
    "    f.close()\n",
    "    \n",
    "from matplotlib import pyplot as plt\n",
    "plt.plot(loss[1])\n",
    "# plt.xscale('log')\n",
    "plt.xlabel('Epoch')\n",
    "plt.ylabel('Classifier Loss')\n",
    "plt.figure()\n",
    "\n",
    "\n",
    "''' plotting the Top-1 & Top-5 accuracy'''\n",
    "plt.plot(acc1_hist)\n",
    "plt.xlabel('Epoch')\n",
    "plt.ylabel('Top-1 Accuracy')\n",
    "plt.figure()\n",
    "hist5 = [a.item() for a in acc5_hist]\n",
    "plt.plot(hist5)\n",
    "plt.xlabel('Epoch')\n",
    "plt.ylabel('Top-5 Accuracy')\n",
    "plt.figure()\n",
    "\n"
   ]
  },
  {
   "cell_type": "code",
   "execution_count": 11,
   "id": "57ed38c4-7c50-492a-9c87-7bfc65d29613",
   "metadata": {},
   "outputs": [
    {
     "name": "stdout",
     "output_type": "stream",
     "text": [
      "loading noise file cifar-10-batches-py/cifar-10-batches-py//0.9_sym.json\n",
      "torch.Size([50000])\n",
      "torch.Size([50000])\n",
      "tensor([6, 9, 9, 4, 1, 1, 2, 7, 8, 3])\n",
      "[[0.16946064]\n",
      " [0.25153847]]\n",
      "loading noise file cifar-10-batches-py/cifar-10-batches-py//0.9_sym.json\n",
      "Confusion matrix before re-labeling\n"
     ]
    },
    {
     "data": {
      "text/plain": [
       "<Figure size 432x288 with 0 Axes>"
      ]
     },
     "metadata": {},
     "output_type": "display_data"
    },
    {
     "data": {
      "image/png": "[encoded data removed]",
      "text/plain": [
       "<Figure size 432x288 with 2 Axes>"
      ]
     },
     "metadata": {
      "needs_background": "light"
     },
     "output_type": "display_data"
    },
    {
     "name": "stdout",
     "output_type": "stream",
     "text": [
      "Confusion matrix after re-labeling\n"
     ]
    },
    {
     "data": {
      "text/plain": [
       "<Figure size 432x288 with 0 Axes>"
      ]
     },
     "metadata": {},
     "output_type": "display_data"
    },
    {
     "data": {
      "image/png": "[encoded data removed]",
      "text/plain": [
       "<Figure size 432x288 with 2 Axes>"
      ]
     },
     "metadata": {
      "needs_background": "light"
     },
     "output_type": "display_data"
    },
    {
     "name": "stdout",
     "output_type": "stream",
     "text": [
      "Numer of labeled samples:15727   AUC:0.665\n",
      "\n",
      "labeled data has a size of 15727\n",
      "using CBS\n",
      "loading noise file cifar-10-batches-py/cifar-10-batches-py//0.9_sym.json\n",
      "unlabeled data has a size of 34273\n"
     ]
    }
   ],
   "source": [
    "from sklearn.mixture import GaussianMixture\n",
    "import dataloader_cifar as dataloader\n",
    "\n",
    "def get_train(model, dataloader, estimate_p_right=True, p_right_threshold=0.5, p_clean_threshold=0.5, CBS=True):\n",
    "    model.eval()\n",
    "    losses = []\n",
    "    confidence = []\n",
    "    label_preds = []\n",
    "    crit = nn.CrossEntropyLoss(reduction='none')\n",
    "    with torch.no_grad():\n",
    "        for batch_idx, (inputs, targets, index) in enumerate(dataloader):\n",
    "            inputs, targets = inputs.cuda(), targets.cuda() \n",
    "            outputs = model(inputs)\n",
    "            b_losses = crit(outputs, targets)\n",
    "            probs, b_preds = torch.max(torch.softmax(outputs, dim=-1), dim=-1)\n",
    "            confidence.append(probs)\n",
    "            label_preds.append(b_preds)\n",
    "            losses.append(b_losses)\n",
    "\n",
    "    losses = torch.cat(losses, dim=0).cpu()\n",
    "    confidence = torch.cat(confidence, dim=0).cpu()\n",
    "    label_preds = torch.cat(label_preds, dim=0).cpu()\n",
    "    print(losses.shape)\n",
    "    print(label_preds.shape)\n",
    "    print(label_preds[:10])\n",
    "    losses = (losses-losses.min())/(losses.max()-losses.min())\n",
    "    \n",
    "    input_loss = losses.reshape(-1, 1)\n",
    "    confidence = confidence.reshape(-1, 1)\n",
    "    # fit a two-component GMM to the loss\n",
    "    gmm1 = GaussianMixture(n_components=2,max_iter=10,tol=1e-2,reg_covar=5e-4)\n",
    "    gmm1.fit(input_loss)\n",
    "    prob = gmm1.predict_proba(input_loss)\n",
    "    p_clean = prob[:,gmm1.means_.argmin()]\n",
    "    clean = (p_clean > p_clean_threshold)\n",
    "    if estimate_p_right:\n",
    "        gmm2 = GaussianMixture(n_components=2,max_iter=10,tol=1e-2,reg_covar=5e-4)\n",
    "        gmm2.fit(confidence)\n",
    "        print(gmm2.means_)\n",
    "        prob = gmm2.predict_proba(confidence)\n",
    "        p_right = prob[:, gmm2.means_.argmax()]\n",
    "        relabel_indicator = p_right > p_right_threshold\n",
    "        return loader.run('train', clean, p_clean, CBS=CBS,relabel_indicator=relabel_indicator, label_preds=label_preds)\n",
    "\n",
    "    return loader.run('train', clean, p_clean, CBS=CBS)\n",
    "\n",
    "labeled_trainloader, unlabeled_trainloader = get_train(model, loader.run('eval_train'), estimate_p_right=True)"
   ]
  },
  {
   "cell_type": "code",
   "execution_count": 12,
   "id": "82e06c33-776c-42fb-9c7e-56519f024645",
   "metadata": {},
   "outputs": [],
   "source": [
    "def linear_rampup(current, rampup_length=10):\n",
    "    if rampup_length == 0:\n",
    "        return 1.0\n",
    "    else:\n",
    "        current = np.clip(current / rampup_length, 0.0, 1.0)\n",
    "        return float(current)\n",
    "\n",
    "class SemiLoss(object):\n",
    "    def __call__(self, outputs_x, targets_x, outputs_u, targets_u, epoch, lambda_u=75):\n",
    "        probs_u = torch.softmax(outputs_u, dim=1)\n",
    "\n",
    "        Lx = -torch.mean(torch.sum(F.log_softmax(outputs_x, dim=1) * targets_x, dim=1))\n",
    "        Lu = torch.mean((probs_u - targets_u)**2)\n",
    "\n",
    "        return Lx, Lu, lambda_u * linear_rampup(epoch)"
   ]
  },
  {
   "cell_type": "code",
   "execution_count": 13,
   "id": "32c87005-4cab-44a5-acfc-14d7a7ae28c3",
   "metadata": {},
   "outputs": [],
   "source": [
    "def interleave_offsets(batch, nu):\n",
    "    groups = [batch // (nu + 1)] * (nu + 1)\n",
    "    for x in range(batch - sum(groups)):\n",
    "        groups[-x - 1] += 1\n",
    "    offsets = [0]\n",
    "    for g in groups:\n",
    "        offsets.append(offsets[-1] + g)\n",
    "    assert offsets[-1] == batch\n",
    "    return offsets\n",
    "\n",
    "\n",
    "def interleave(xy, batch):\n",
    "    nu = len(xy) - 1\n",
    "    offsets = interleave_offsets(batch, nu)\n",
    "    xy = [[v[offsets[p]:offsets[p + 1]] for p in range(nu + 1)] for v in xy]\n",
    "    for i in range(1, nu + 1):\n",
    "        xy[0][i], xy[i][i] = xy[i][i], xy[0][i]\n",
    "    return [torch.cat(v, dim=0) for v in xy]"
   ]
  },
  {
   "cell_type": "code",
   "execution_count": 14,
   "id": "7dbeb061-d6d0-4d97-9b15-dc1b23b01b74",
   "metadata": {},
   "outputs": [],
   "source": [
    "def kronecker_product(t1, t2):\n",
    "    \"\"\"\n",
    "    Computes the Kronecker product between two tensors.\n",
    "    See https://en.wikipedia.org/wiki/Kronecker_product\n",
    "    \"\"\"\n",
    "    t1_height, t1_width = t1.shape\n",
    "    t2_height, t2_width = t2.shape\n",
    "    out_height = t1_height * t2_height\n",
    "    out_width = t1_width * t2_width\n",
    "\n",
    "    tiled_t2 = t2.repeat(t1_height, t1_width)\n",
    "    expanded_t1 = (\n",
    "        t1.unsqueeze(2)\n",
    "          .unsqueeze(3)\n",
    "          .repeat(1, t2_height, t2_width, 1)\n",
    "          .view(out_height, out_width)\n",
    "    )\n",
    "\n",
    "    return expanded_t1 * tiled_t2"
   ]
  },
  {
   "cell_type": "code",
   "execution_count": 15,
   "id": "54485131-85f9-49ef-a80a-2abe25de63d2",
   "metadata": {},
   "outputs": [],
   "source": [
    "import torch\n",
    "from torch.nn import ReLU\n",
    "from torch.nn.functional import normalize\n",
    "Re = ReLU()\n",
    "src = torch.ones(32,10)\n",
    "lab_num = 32# len(L[0])\n",
    "unlab_num = 64 #len(U)\n",
    "one_vec1 = torch.ones(lab_num).unsqueeze(dim=0).cuda().detach()\n",
    "one_vec = torch.ones(unlab_num).unsqueeze(dim=0).cuda().detach()\n",
    "\n",
    "def graph_structured_regularization(model, L, U, lambda_uu, lambda_lu, tau): #U-unlabled class, L-labled, \n",
    "    A_lu = None\n",
    "    A_uu = None\n",
    "    with torch.no_grad():\n",
    "        Z_l = model.encoder(L[0].cuda())\n",
    "        Z_u = model.encoder(U.cuda())\n",
    "        Z_l = normalize(Z_l,dim=1)\n",
    "        Z_u = normalize(Z_u,dim=1)\n",
    "        A_lu = Re(torch.matmul(Z_l, Z_u.t())-tau)\n",
    "        A_uu = Re(torch.matmul(Z_u, Z_u.t())-tau)\n",
    "    y_hat = L[1]\n",
    "    p = model(U.cuda())\n",
    "    p = torch.softmax(p, dim=-1)\n",
    "    P_mat = kronecker_product(one_vec, p).reshape(unlab_num, unlab_num, 10)\n",
    "    P_mat1 = P_mat[:,:32,:] # kronecker_product(one_vec1, p).reshape(unlab_num, lab_num, 10)\n",
    "    Y_mat = kronecker_product(one_vec,y_hat).reshape(lab_num, unlab_num,10)\n",
    "    P_mat1 = torch.transpose(P_mat1,0,1)\n",
    "    norm_lu = torch.mean((P_mat1 - Y_mat) **2)\n",
    "    norm_uu = torch.mean((P_mat - torch.transpose(P_mat,0,1) ** 2))\n",
    "    return  (0.5 * lambda_uu*A_uu*norm_uu).sum() + (lambda_lu*A_lu*norm_lu).sum() "
   ]
  },
  {
   "cell_type": "code",
   "execution_count": null,
   "id": "33a84da4-9c84-4fc8-b3c1-8f4639eb3e55",
   "metadata": {},
   "outputs": [
    {
     "name": "stdout",
     "output_type": "stream",
     "text": [
      "learnable paramters: 23520842\n"
     ]
    },
    {
     "data": {
      "application/vnd.jupyter.widget-view+json": {
       "model_id": "4c123d0d029548e6b78d5b6c0d0c5381",
       "version_major": 2,
       "version_minor": 0
      },
      "text/plain": [
       "HBox(children=(FloatProgress(value=0.0, max=1024.0), HTML(value='')))"
      ]
     },
     "metadata": {},
     "output_type": "display_data"
    },
    {
     "name": "stdout",
     "output_type": "stream",
     "text": [
      "(1/1024) Data: 0.680s | Batch: 1.131s | Loss: 1.8664 | Loss_x: 1.8383 | Loss_u: 0.0018 | Loss_R: 0.0281 | W: 0.0000\n"
     ]
    },
    {
     "data": {
      "application/vnd.jupyter.widget-view+json": {
       "model_id": "78a4c0e5f2474971a5aab9028ee94421",
       "version_major": 2,
       "version_minor": 0
      },
      "text/plain": [
       "HBox(children=(FloatProgress(value=0.0, max=313.0), HTML(value='')))"
      ]
     },
     "metadata": {},
     "output_type": "display_data"
    },
    {
     "name": "stdout",
     "output_type": "stream",
     "text": [
      "\n",
      "validation acc: top-1: 84.34, top-5: tensor([98.4400], device='cuda:0')\n",
      "(101/1024) Data: 0.083s | Batch: 0.486s | Loss: 3.1139 | Loss_x: 2.2009 | Loss_u: 0.0047 | Loss_R: 0.9114 | W: 0.3662\n",
      "(201/1024) Data: 0.045s | Batch: 0.448s | Loss: 2.9286 | Loss_x: 2.1254 | Loss_u: 0.0048 | Loss_R: 0.7996 | W: 0.7324\n",
      "(301/1024) Data: 0.033s | Batch: 0.436s | Loss: 2.8016 | Loss_x: 2.0697 | Loss_u: 0.0051 | Loss_R: 0.7259 | W: 1.0986\n",
      "(401/1024) Data: 0.026s | Batch: 0.428s | Loss: 2.6638 | Loss_x: 1.9875 | Loss_u: 0.0057 | Loss_R: 0.6671 | W: 1.4648\n",
      "(501/1024) Data: 0.023s | Batch: 0.425s | Loss: 2.5162 | Loss_x: 1.8857 | Loss_u: 0.0065 | Loss_R: 0.6167 | W: 1.8311\n"
     ]
    },
    {
     "data": {
      "application/vnd.jupyter.widget-view+json": {
       "model_id": "ab83910cc7494199ad19714ef247a0d4",
       "version_major": 2,
       "version_minor": 0
      },
      "text/plain": [
       "HBox(children=(FloatProgress(value=0.0, max=313.0), HTML(value='')))"
      ]
     },
     "metadata": {},
     "output_type": "display_data"
    },
    {
     "name": "stdout",
     "output_type": "stream",
     "text": [
      "\n",
      "validation acc: top-1: 62.95, top-5: tensor([95.0900], device='cuda:0')\n",
      "(601/1024) Data: 0.032s | Batch: 0.433s | Loss: 2.4069 | Loss_x: 1.8108 | Loss_u: 0.0072 | Loss_R: 0.5775 | W: 2.1973\n",
      "(701/1024) Data: 0.028s | Batch: 0.430s | Loss: 2.3121 | Loss_x: 1.7462 | Loss_u: 0.0077 | Loss_R: 0.5425 | W: 2.5635\n",
      "(801/1024) Data: 0.025s | Batch: 0.427s | Loss: 2.2263 | Loss_x: 1.6859 | Loss_u: 0.0081 | Loss_R: 0.5123 | W: 2.9297\n",
      "(901/1024) Data: 0.023s | Batch: 0.425s | Loss: 2.1519 | Loss_x: 1.6352 | Loss_u: 0.0085 | Loss_R: 0.4838 | W: 3.2959\n",
      "(1001/1024) Data: 0.022s | Batch: 0.424s | Loss: 2.0755 | Loss_x: 1.5802 | Loss_u: 0.0087 | Loss_R: 0.4584 | W: 3.6621\n"
     ]
    },
    {
     "data": {
      "application/vnd.jupyter.widget-view+json": {
       "model_id": "aa5dec2ff0d54911bc311a01612c0a1d",
       "version_major": 2,
       "version_minor": 0
      },
      "text/plain": [
       "HBox(children=(FloatProgress(value=0.0, max=313.0), HTML(value='')))"
      ]
     },
     "metadata": {},
     "output_type": "display_data"
    },
    {
     "name": "stdout",
     "output_type": "stream",
     "text": [
      "\n",
      "validation acc: top-1: 77.98, top-5: tensor([98.1300], device='cuda:0')\n",
      "\n",
      "2.0678691659122705 1.5761511326709297 0.00884042916021599\n",
      "update lr to: 0.0004889877161664096\n"
     ]
    },
    {
     "data": {
      "application/vnd.jupyter.widget-view+json": {
       "model_id": "ae0331b3d1804c48af59f670e2471ad2",
       "version_major": 2,
       "version_minor": 0
      },
      "text/plain": [
       "HBox(children=(FloatProgress(value=0.0, max=1024.0), HTML(value='')))"
      ]
     },
     "metadata": {},
     "output_type": "display_data"
    },
    {
     "name": "stdout",
     "output_type": "stream",
     "text": [
      "(1/1024) Data: 0.941s | Batch: 1.366s | Loss: 1.9859 | Loss_x: 1.8830 | Loss_u: 0.0051 | Loss_R: 0.0648 | W: 7.5000\n"
     ]
    },
    {
     "data": {
      "application/vnd.jupyter.widget-view+json": {
       "model_id": "aa928ff329f64347bdb2385f788664b9",
       "version_major": 2,
       "version_minor": 0
      },
      "text/plain": [
       "HBox(children=(FloatProgress(value=0.0, max=313.0), HTML(value='')))"
      ]
     },
     "metadata": {},
     "output_type": "display_data"
    },
    {
     "name": "stdout",
     "output_type": "stream",
     "text": [
      "\n",
      "validation acc: top-1: 74.63, top-5: tensor([98.0300], device='cuda:0')\n",
      "(101/1024) Data: 0.083s | Batch: 0.486s | Loss: 1.6039 | Loss_x: 1.2176 | Loss_u: 0.0112 | Loss_R: 0.2980 | W: 7.8662\n",
      "(201/1024) Data: 0.045s | Batch: 0.447s | Loss: 1.5433 | Loss_x: 1.1708 | Loss_u: 0.0116 | Loss_R: 0.2773 | W: 8.2324\n",
      "(301/1024) Data: 0.033s | Batch: 0.435s | Loss: 1.5065 | Loss_x: 1.1434 | Loss_u: 0.0115 | Loss_R: 0.2641 | W: 8.5986\n",
      "(401/1024) Data: 0.027s | Batch: 0.429s | Loss: 1.4906 | Loss_x: 1.1347 | Loss_u: 0.0116 | Loss_R: 0.2518 | W: 8.9648\n",
      "(501/1024) Data: 0.023s | Batch: 0.426s | Loss: 1.4758 | Loss_x: 1.1254 | Loss_u: 0.0117 | Loss_R: 0.2412 | W: 9.3311\n"
     ]
    },
    {
     "data": {
      "application/vnd.jupyter.widget-view+json": {
       "model_id": "3e49e909e51e4ec1b05f5399caa5485a",
       "version_major": 2,
       "version_minor": 0
      },
      "text/plain": [
       "HBox(children=(FloatProgress(value=0.0, max=313.0), HTML(value='')))"
      ]
     },
     "metadata": {},
     "output_type": "display_data"
    },
    {
     "name": "stdout",
     "output_type": "stream",
     "text": [
      "\n",
      "validation acc: top-1: 77.43, top-5: tensor([97.7500], device='cuda:0')\n",
      "(601/1024) Data: 0.032s | Batch: 0.434s | Loss: 1.4673 | Loss_x: 1.1210 | Loss_u: 0.0117 | Loss_R: 0.2327 | W: 9.6973\n",
      "(701/1024) Data: 0.028s | Batch: 0.430s | Loss: 1.4599 | Loss_x: 1.1148 | Loss_u: 0.0117 | Loss_R: 0.2267 | W: 10.0635\n",
      "(801/1024) Data: 0.026s | Batch: 0.428s | Loss: 1.4495 | Loss_x: 1.1057 | Loss_u: 0.0116 | Loss_R: 0.2223 | W: 10.4297\n",
      "(901/1024) Data: 0.024s | Batch: 0.426s | Loss: 1.4451 | Loss_x: 1.1012 | Loss_u: 0.0117 | Loss_R: 0.2180 | W: 10.7959\n",
      "(1001/1024) Data: 0.022s | Batch: 0.425s | Loss: 1.4404 | Loss_x: 1.0960 | Loss_u: 0.0117 | Loss_R: 0.2141 | W: 11.1621\n"
     ]
    },
    {
     "data": {
      "application/vnd.jupyter.widget-view+json": {
       "model_id": "cab0d7f1f389426288c25ecdcfbc795a",
       "version_major": 2,
       "version_minor": 0
      },
      "text/plain": [
       "HBox(children=(FloatProgress(value=0.0, max=313.0), HTML(value='')))"
      ]
     },
     "metadata": {},
     "output_type": "display_data"
    },
    {
     "name": "stdout",
     "output_type": "stream",
     "text": [
      "\n",
      "validation acc: top-1: 78.54, top-5: tensor([97.8000], device='cuda:0')\n",
      "\n",
      "1.4364053506287746 1.0928524955088506 0.011622030918260862\n",
      "update lr to: 0.00045702882373436317\n"
     ]
    },
    {
     "data": {
      "application/vnd.jupyter.widget-view+json": {
       "model_id": "88986d0bbfda4e80a9c0ce0b5374d384",
       "version_major": 2,
       "version_minor": 0
      },
      "text/plain": [
       "HBox(children=(FloatProgress(value=0.0, max=1024.0), HTML(value='')))"
      ]
     },
     "metadata": {},
     "output_type": "display_data"
    },
    {
     "name": "stdout",
     "output_type": "stream",
     "text": [
      "(1/1024) Data: 0.965s | Batch: 1.388s | Loss: 1.9932 | Loss_x: 1.7697 | Loss_u: 0.0081 | Loss_R: 0.1018 | W: 15.0000\n"
     ]
    },
    {
     "data": {
      "application/vnd.jupyter.widget-view+json": {
       "model_id": "de11b27d285b4a1581796650ecdc53aa",
       "version_major": 2,
       "version_minor": 0
      },
      "text/plain": [
       "HBox(children=(FloatProgress(value=0.0, max=313.0), HTML(value='')))"
      ]
     },
     "metadata": {},
     "output_type": "display_data"
    },
    {
     "name": "stdout",
     "output_type": "stream",
     "text": [
      "\n",
      "validation acc: top-1: 81.61, top-5: tensor([98.4600], device='cuda:0')\n",
      "(101/1024) Data: 0.083s | Batch: 0.488s | Loss: 1.4849 | Loss_x: 1.1149 | Loss_u: 0.0117 | Loss_R: 0.1899 | W: 15.3662\n",
      "(201/1024) Data: 0.046s | Batch: 0.449s | Loss: 1.4480 | Loss_x: 1.0843 | Loss_u: 0.0116 | Loss_R: 0.1813 | W: 15.7324\n",
      "(301/1024) Data: 0.033s | Batch: 0.436s | Loss: 1.4419 | Loss_x: 1.0804 | Loss_u: 0.0116 | Loss_R: 0.1745 | W: 16.0986\n",
      "(401/1024) Data: 0.027s | Batch: 0.429s | Loss: 1.4262 | Loss_x: 1.0673 | Loss_u: 0.0115 | Loss_R: 0.1692 | W: 16.4648\n",
      "(501/1024) Data: 0.023s | Batch: 0.426s | Loss: 1.4064 | Loss_x: 1.0478 | Loss_u: 0.0114 | Loss_R: 0.1665 | W: 16.8311\n"
     ]
    },
    {
     "data": {
      "application/vnd.jupyter.widget-view+json": {
       "model_id": "86aef3ff37fa465cad689e36965db80f",
       "version_major": 2,
       "version_minor": 0
      },
      "text/plain": [
       "HBox(children=(FloatProgress(value=0.0, max=313.0), HTML(value='')))"
      ]
     },
     "metadata": {},
     "output_type": "display_data"
    },
    {
     "name": "stdout",
     "output_type": "stream",
     "text": [
      "\n",
      "validation acc: top-1: 80.01, top-5: tensor([97.2800], device='cuda:0')\n",
      "(601/1024) Data: 0.032s | Batch: 0.435s | Loss: 1.4020 | Loss_x: 1.0413 | Loss_u: 0.0115 | Loss_R: 0.1636 | W: 17.1973\n",
      "(701/1024) Data: 0.029s | Batch: 0.431s | Loss: 1.4011 | Loss_x: 1.0392 | Loss_u: 0.0115 | Loss_R: 0.1608 | W: 17.5635\n",
      "(801/1024) Data: 0.026s | Batch: 0.428s | Loss: 1.4023 | Loss_x: 1.0372 | Loss_u: 0.0115 | Loss_R: 0.1592 | W: 17.9297\n",
      "(901/1024) Data: 0.024s | Batch: 0.426s | Loss: 1.4043 | Loss_x: 1.0360 | Loss_u: 0.0115 | Loss_R: 0.1578 | W: 18.2959\n",
      "(1001/1024) Data: 0.023s | Batch: 0.425s | Loss: 1.4018 | Loss_x: 1.0310 | Loss_u: 0.0115 | Loss_R: 0.1565 | W: 18.6621\n"
     ]
    },
    {
     "data": {
      "application/vnd.jupyter.widget-view+json": {
       "model_id": "daf89baa10774cefbc8bc31264256f5c",
       "version_major": 2,
       "version_minor": 0
      },
      "text/plain": [
       "HBox(children=(FloatProgress(value=0.0, max=313.0), HTML(value='')))"
      ]
     },
     "metadata": {},
     "output_type": "display_data"
    },
    {
     "name": "stdout",
     "output_type": "stream",
     "text": [
      "\n",
      "validation acc: top-1: 81.31, top-5: tensor([97.4800], device='cuda:0')\n",
      "\n",
      "1.402822107920656 1.0310146927295136 0.011507557567028925\n",
      "update lr to: 0.0004072516817658065\n"
     ]
    },
    {
     "data": {
      "application/vnd.jupyter.widget-view+json": {
       "model_id": "86468f1d76fb421da0fab94ecf31f99a",
       "version_major": 2,
       "version_minor": 0
      },
      "text/plain": [
       "HBox(children=(FloatProgress(value=0.0, max=1024.0), HTML(value='')))"
      ]
     },
     "metadata": {},
     "output_type": "display_data"
    },
    {
     "name": "stdout",
     "output_type": "stream",
     "text": [
      "(1/1024) Data: 0.955s | Batch: 1.369s | Loss: 1.4973 | Loss_x: 1.2222 | Loss_u: 0.0076 | Loss_R: 0.1052 | W: 22.5000\n"
     ]
    },
    {
     "data": {
      "application/vnd.jupyter.widget-view+json": {
       "model_id": "ea236372704c47879330402b4749f171",
       "version_major": 2,
       "version_minor": 0
      },
      "text/plain": [
       "HBox(children=(FloatProgress(value=0.0, max=313.0), HTML(value='')))"
      ]
     },
     "metadata": {},
     "output_type": "display_data"
    },
    {
     "name": "stdout",
     "output_type": "stream",
     "text": [
      "\n",
      "validation acc: top-1: 80.9, top-5: tensor([98.2900], device='cuda:0')\n",
      "(101/1024) Data: 0.083s | Batch: 0.485s | Loss: 1.4732 | Loss_x: 1.0199 | Loss_u: 0.0112 | Loss_R: 0.1965 | W: 22.8662\n",
      "(201/1024) Data: 0.046s | Batch: 0.447s | Loss: 1.4339 | Loss_x: 0.9945 | Loss_u: 0.0112 | Loss_R: 0.1799 | W: 23.2324\n",
      "(301/1024) Data: 0.033s | Batch: 0.435s | Loss: 1.4406 | Loss_x: 1.0027 | Loss_u: 0.0113 | Loss_R: 0.1718 | W: 23.5986\n",
      "(401/1024) Data: 0.027s | Batch: 0.429s | Loss: 1.4347 | Loss_x: 0.9982 | Loss_u: 0.0112 | Loss_R: 0.1672 | W: 23.9648\n",
      "(501/1024) Data: 0.024s | Batch: 0.426s | Loss: 1.4365 | Loss_x: 0.9987 | Loss_u: 0.0112 | Loss_R: 0.1656 | W: 24.3311\n"
     ]
    },
    {
     "data": {
      "application/vnd.jupyter.widget-view+json": {
       "model_id": "c9e63559aee2426481daea64f4524ba3",
       "version_major": 2,
       "version_minor": 0
      },
      "text/plain": [
       "HBox(children=(FloatProgress(value=0.0, max=313.0), HTML(value='')))"
      ]
     },
     "metadata": {},
     "output_type": "display_data"
    },
    {
     "name": "stdout",
     "output_type": "stream",
     "text": [
      "\n",
      "validation acc: top-1: 78.52, top-5: tensor([96.7400], device='cuda:0')\n",
      "(601/1024) Data: 0.032s | Batch: 0.434s | Loss: 1.4565 | Loss_x: 1.0130 | Loss_u: 0.0114 | Loss_R: 0.1621 | W: 24.6973\n",
      "(701/1024) Data: 0.029s | Batch: 0.431s | Loss: 1.4460 | Loss_x: 1.0030 | Loss_u: 0.0113 | Loss_R: 0.1599 | W: 25.0635\n",
      "(801/1024) Data: 0.026s | Batch: 0.428s | Loss: 1.4565 | Loss_x: 1.0065 | Loss_u: 0.0114 | Loss_R: 0.1600 | W: 25.4297\n",
      "(901/1024) Data: 0.024s | Batch: 0.426s | Loss: 1.4537 | Loss_x: 1.0001 | Loss_u: 0.0114 | Loss_R: 0.1587 | W: 25.7959\n",
      "(1001/1024) Data: 0.023s | Batch: 0.425s | Loss: 1.4591 | Loss_x: 1.0023 | Loss_u: 0.0114 | Loss_R: 0.1576 | W: 26.1621\n"
     ]
    },
    {
     "data": {
      "application/vnd.jupyter.widget-view+json": {
       "model_id": "3ef62616c7bc495791a4e8eea641d0d5",
       "version_major": 2,
       "version_minor": 0
      },
      "text/plain": [
       "HBox(children=(FloatProgress(value=0.0, max=313.0), HTML(value='')))"
      ]
     },
     "metadata": {},
     "output_type": "display_data"
    },
    {
     "name": "stdout",
     "output_type": "stream",
     "text": [
      "\n",
      "validation acc: top-1: 81.65, top-5: tensor([98.3000], device='cuda:0')\n",
      "\n",
      "1.4547176326159388 0.9993992149102269 0.011362693254113765\n",
      "update lr to: 0.0003445288237343632\n"
     ]
    },
    {
     "data": {
      "application/vnd.jupyter.widget-view+json": {
       "model_id": "07fe2becd349400e9277f5cd48eb504a",
       "version_major": 2,
       "version_minor": 0
      },
      "text/plain": [
       "HBox(children=(FloatProgress(value=0.0, max=1024.0), HTML(value='')))"
      ]
     },
     "metadata": {},
     "output_type": "display_data"
    },
    {
     "name": "stdout",
     "output_type": "stream",
     "text": [
      "(1/1024) Data: 0.985s | Batch: 1.398s | Loss: 2.1108 | Loss_x: 1.6289 | Loss_u: 0.0118 | Loss_R: 0.1293 | W: 30.0000\n"
     ]
    },
    {
     "data": {
      "application/vnd.jupyter.widget-view+json": {
       "model_id": "78a2911446b6422b9c779ebef51bf835",
       "version_major": 2,
       "version_minor": 0
      },
      "text/plain": [
       "HBox(children=(FloatProgress(value=0.0, max=313.0), HTML(value='')))"
      ]
     },
     "metadata": {},
     "output_type": "display_data"
    },
    {
     "name": "stdout",
     "output_type": "stream",
     "text": [
      "\n",
      "validation acc: top-1: 82.87, top-5: tensor([98.2500], device='cuda:0')\n",
      "(101/1024) Data: 0.084s | Batch: 0.488s | Loss: 1.5577 | Loss_x: 1.0581 | Loss_u: 0.0118 | Loss_R: 0.1424 | W: 30.3662\n",
      "(201/1024) Data: 0.046s | Batch: 0.448s | Loss: 1.5183 | Loss_x: 1.0275 | Loss_u: 0.0113 | Loss_R: 0.1427 | W: 30.7324\n"
     ]
    }
   ],
   "source": [
    "import time\n",
    "from tqdm.notebook  import tqdm\n",
    "from torch.optim.lr_scheduler import CosineAnnealingLR\n",
    "from torch.nn import functional as F\n",
    "\n",
    "optimizer = torch.optim.Adam(model.parameters(), lr=5e-4)\n",
    "epochs = 100\n",
    "lr_sched = CosineAnnealingLR(optimizer, T_max=10, eta_min=0.00005)\n",
    "optimizer.zero_grad()\n",
    "\n",
    "def train(labeled_trainloader, unlabeled_trainloader, model, optimizer, criterion, T=0.5, alpha=0.75, train_iteration=1024):\n",
    "    acc1_hist = []\n",
    "    acc5_hist = []\n",
    "    best_val = 0\n",
    "    switch_encoder(model, state=True)\n",
    "    print(f\"learnable paramters: {sum(torch.numel(p) for p in model.parameters() if p.requires_grad)}\")\n",
    "    for epoch in range(epochs):\n",
    "        batch_time = AverageMeter()\n",
    "        data_time = AverageMeter()\n",
    "        losses = AverageMeter()\n",
    "        losses_x = AverageMeter()\n",
    "        losses_u = AverageMeter()\n",
    "        losses_r = AverageMeter()\n",
    "        time_loss_r = AverageMeter()\n",
    "\n",
    "        ws = AverageMeter()\n",
    "        end = time.time()\n",
    "        labeled_train_iter = iter(labeled_trainloader)\n",
    "        unlabeled_train_iter = iter(unlabeled_trainloader)\n",
    "\n",
    "        model.train()\n",
    "        for batch_idx in tqdm(range(train_iteration)):\n",
    "            try:\n",
    "                inputs_x, targets_x = labeled_train_iter.next()\n",
    "            except:\n",
    "                labeled_train_iter = iter(labeled_trainloader)\n",
    "                inputs_x, targets_x = labeled_train_iter.next()\n",
    "\n",
    "            try:\n",
    "                inputs_u, inputs_u2 = unlabeled_train_iter.next()\n",
    "            except:\n",
    "                unlabeled_train_iter = iter(unlabeled_trainloader)\n",
    "                inputs_u, inputs_u2 = unlabeled_train_iter.next()\n",
    "\n",
    "            # measure data loading time\n",
    "            data_time.update(time.time() - end)\n",
    "\n",
    "            batch_size = inputs_x.size(0)\n",
    "\n",
    "            # Transform label to one-hot\n",
    "            targets_x = torch.zeros(batch_size, 10).scatter_(1, targets_x.view(-1,1).long(), 1)\n",
    "\n",
    "            inputs_x, targets_x = inputs_x.cuda(), targets_x.cuda(non_blocking=True)\n",
    "            inputs_u = inputs_u.cuda()\n",
    "            inputs_u2 = inputs_u2.cuda()\n",
    "\n",
    "            with torch.no_grad():\n",
    "                # compute guessed labels of unlabel samples\n",
    "                outputs_u = model(inputs_u)\n",
    "                outputs_u2 = model(inputs_u2)\n",
    "                p = (torch.softmax(outputs_u, dim=1) + torch.softmax(outputs_u2, dim=1)) / 2\n",
    "                pt = p ** (1 / T)\n",
    "                targets_u = pt / pt.sum(dim=1, keepdim=True)\n",
    "                targets_u = targets_u.detach()\n",
    "\n",
    "            # mixup\n",
    "            all_inputs = torch.cat([inputs_x, inputs_u, inputs_u2], dim=0)\n",
    "            all_targets = torch.cat([targets_x, targets_u, targets_u], dim=0)\n",
    "\n",
    "            l = np.random.beta(alpha, alpha)\n",
    "\n",
    "            l = max(l, 1-l)\n",
    "\n",
    "            idx = torch.randperm(all_inputs.size(0))\n",
    "\n",
    "            input_a, input_b = all_inputs, all_inputs[idx]\n",
    "            target_a, target_b = all_targets, all_targets[idx]\n",
    "\n",
    "            mixed_input = l * input_a + (1 - l) * input_b\n",
    "            mixed_target = l * target_a + (1 - l) * target_b\n",
    "\n",
    "            # interleave labeled and unlabed samples between batches to get correct batchnorm calculation \n",
    "            mixed_input = list(torch.split(mixed_input, batch_size))\n",
    "            mixed_input = interleave(mixed_input, batch_size)\n",
    "\n",
    "            logits = [model(mixed_input[0])]\n",
    "            for input in mixed_input[1:]:\n",
    "                logits.append(model(input))\n",
    "\n",
    "            # put interleaved samples back\n",
    "            logits = interleave(logits, batch_size)\n",
    "            logits_x = logits[0]\n",
    "            logits_u = torch.cat(logits[1:], dim=0)\n",
    "\n",
    "            Lx, Lu, w = criterion(logits_x, mixed_target[:batch_size], logits_u, mixed_target[batch_size:], epoch+batch_idx/train_iteration)\n",
    "            R = graph_structured_regularization(model, (inputs_x, targets_x), torch.cat([inputs_u, inputs_u2], dim=0), lambda_uu=0.01, lambda_lu=0.005, tau=0.5)\n",
    "\n",
    "            loss = Lx + w * Lu + R\n",
    "\n",
    "\n",
    "\n",
    "            # record loss\n",
    "            losses.update(loss.item(), inputs_x.size(0))\n",
    "            losses_x.update(Lx.item(), inputs_x.size(0))\n",
    "            losses_u.update(Lu.item(), inputs_x.size(0))\n",
    "            losses_r.update(R.item(), inputs_x.size(0))\n",
    "            ws.update(w, inputs_x.size(0))\n",
    "\n",
    "            # compute gradient and do SGD step\n",
    "            optimizer.zero_grad()\n",
    "            loss.backward()\n",
    "            optimizer.step()\n",
    "\n",
    "            # measure elapsed time\n",
    "            batch_time.update(time.time() - end)\n",
    "            end = time.time()\n",
    "\n",
    "            # plot progress\n",
    "            if batch_idx % 100 == 0:\n",
    "                print('({batch}/{size}) Data: {data:.3f}s | Batch: {bt:.3f}s | Loss: {loss:.4f} | Loss_x: {loss_x:.4f} | Loss_u: {loss_u:.4f} | Loss_R: {loss_r:.4f} | W: {w:.4f}'.format(\n",
    "                            batch=batch_idx + 1,\n",
    "                            size=train_iteration,\n",
    "                            data=data_time.avg,\n",
    "                            bt=batch_time.avg,\n",
    "                            loss=losses.avg,\n",
    "                            loss_x=losses_x.avg,\n",
    "                            loss_u=losses_u.avg,\n",
    "                            loss_r=losses_r.avg,\n",
    "                            w=ws.avg,\n",
    "                            ))\n",
    "            if batch_idx % 500 == 0:\n",
    "                val,val5 = validate(model, val_dataloader)\n",
    "                acc1_hist.append(val)\n",
    "                acc5_hist.append(val5)\n",
    "                if val > best_val:\n",
    "                    best_val = val\n",
    "                    best_model_wts = copy.deepcopy(model.state_dict())\n",
    "            \n",
    "\n",
    "        print (losses.avg, losses_x.avg, losses_u.avg,)\n",
    "        lr_sched.step()\n",
    "        print(f\"update lr to: {optimizer.param_groups[0]['lr']}\")\n",
    "    return(losses.avg, losses_x.avg, losses_u.avg,)\n",
    "\n",
    "train(labeled_trainloader, unlabeled_trainloader, model, optimizer, criterion=SemiLoss(), T=0.5, alpha=0.75, train_iteration=1024)"
   ]
  },
  {
   "cell_type": "code",
   "execution_count": null,
   "id": "d039eee1-f0b7-47cb-b038-f913766b2dc9",
   "metadata": {},
   "outputs": [],
   "source": []
  }
 ],
 "metadata": {
  "kernelspec": {
   "display_name": "Python 3",
   "language": "python",
   "name": "python3"
  },
  "language_info": {
   "codemirror_mode": {
    "name": "ipython",
    "version": 3
   },
   "file_extension": ".py",
   "mimetype": "text/x-python",
   "name": "python",
   "nbconvert_exporter": "python",
   "pygments_lexer": "ipython3",
   "version": "3.8.10"
  }
 },
 "nbformat": 4,
 "nbformat_minor": 5
}
